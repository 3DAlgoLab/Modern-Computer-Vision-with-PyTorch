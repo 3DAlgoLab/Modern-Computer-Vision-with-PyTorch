{
  "nbformat": 4,
  "nbformat_minor": 0,
  "metadata": {
    "colab": {
      "name": "Semantic_Segmentation_with_U_Net.ipynb",
      "provenance": [],
      "include_colab_link": true
    },
    "kernelspec": {
      "name": "python3",
      "display_name": "Python 3"
    },
    "accelerator": "GPU",
    "widgets": {
      "application/vnd.jupyter.widget-state+json": {
        "1bbe984a22a24cd098b42f5c95279d35": {
          "model_module": "@jupyter-widgets/controls",
          "model_name": "HBoxModel",
          "state": {
            "_view_name": "HBoxView",
            "_dom_classes": [],
            "_model_name": "HBoxModel",
            "_view_module": "@jupyter-widgets/controls",
            "_model_module_version": "1.5.0",
            "_view_count": null,
            "_view_module_version": "1.5.0",
            "box_style": "",
            "layout": "IPY_MODEL_43a4daeda22a42469e3e93c21a879b54",
            "_model_module": "@jupyter-widgets/controls",
            "children": [
              "IPY_MODEL_94bcd8681c27482e8a9dbbf4154a38d7",
              "IPY_MODEL_76faa60f20c14566afe40bd6e120c493"
            ]
          }
        },
        "43a4daeda22a42469e3e93c21a879b54": {
          "model_module": "@jupyter-widgets/base",
          "model_name": "LayoutModel",
          "state": {
            "_view_name": "LayoutView",
            "grid_template_rows": null,
            "right": null,
            "justify_content": null,
            "_view_module": "@jupyter-widgets/base",
            "overflow": null,
            "_model_module_version": "1.2.0",
            "_view_count": null,
            "flex_flow": null,
            "width": null,
            "min_width": null,
            "border": null,
            "align_items": null,
            "bottom": null,
            "_model_module": "@jupyter-widgets/base",
            "top": null,
            "grid_column": null,
            "overflow_y": null,
            "overflow_x": null,
            "grid_auto_flow": null,
            "grid_area": null,
            "grid_template_columns": null,
            "flex": null,
            "_model_name": "LayoutModel",
            "justify_items": null,
            "grid_row": null,
            "max_height": null,
            "align_content": null,
            "visibility": null,
            "align_self": null,
            "height": null,
            "min_height": null,
            "padding": null,
            "grid_auto_rows": null,
            "grid_gap": null,
            "max_width": null,
            "order": null,
            "_view_module_version": "1.2.0",
            "grid_template_areas": null,
            "object_position": null,
            "object_fit": null,
            "grid_auto_columns": null,
            "margin": null,
            "display": null,
            "left": null
          }
        },
        "94bcd8681c27482e8a9dbbf4154a38d7": {
          "model_module": "@jupyter-widgets/controls",
          "model_name": "FloatProgressModel",
          "state": {
            "_view_name": "ProgressView",
            "style": "IPY_MODEL_b364fa8b8bad458682cc58cce52ffa0a",
            "_dom_classes": [],
            "description": "100%",
            "_model_name": "FloatProgressModel",
            "bar_style": "success",
            "max": 553507836,
            "_view_module": "@jupyter-widgets/controls",
            "_model_module_version": "1.5.0",
            "value": 553507836,
            "_view_count": null,
            "_view_module_version": "1.5.0",
            "orientation": "horizontal",
            "min": 0,
            "description_tooltip": null,
            "_model_module": "@jupyter-widgets/controls",
            "layout": "IPY_MODEL_6182c5219510465dbe6b2d6883224432"
          }
        },
        "76faa60f20c14566afe40bd6e120c493": {
          "model_module": "@jupyter-widgets/controls",
          "model_name": "HTMLModel",
          "state": {
            "_view_name": "HTMLView",
            "style": "IPY_MODEL_f0527cbe7bc444c1a64637ed7fd038ef",
            "_dom_classes": [],
            "description": "",
            "_model_name": "HTMLModel",
            "placeholder": "​",
            "_view_module": "@jupyter-widgets/controls",
            "_model_module_version": "1.5.0",
            "value": " 528M/528M [06:33&lt;00:00, 1.41MB/s]",
            "_view_count": null,
            "_view_module_version": "1.5.0",
            "description_tooltip": null,
            "_model_module": "@jupyter-widgets/controls",
            "layout": "IPY_MODEL_98fbb647b6be42d6a5434af9e75b0979"
          }
        },
        "b364fa8b8bad458682cc58cce52ffa0a": {
          "model_module": "@jupyter-widgets/controls",
          "model_name": "ProgressStyleModel",
          "state": {
            "_view_name": "StyleView",
            "_model_name": "ProgressStyleModel",
            "description_width": "initial",
            "_view_module": "@jupyter-widgets/base",
            "_model_module_version": "1.5.0",
            "_view_count": null,
            "_view_module_version": "1.2.0",
            "bar_color": null,
            "_model_module": "@jupyter-widgets/controls"
          }
        },
        "6182c5219510465dbe6b2d6883224432": {
          "model_module": "@jupyter-widgets/base",
          "model_name": "LayoutModel",
          "state": {
            "_view_name": "LayoutView",
            "grid_template_rows": null,
            "right": null,
            "justify_content": null,
            "_view_module": "@jupyter-widgets/base",
            "overflow": null,
            "_model_module_version": "1.2.0",
            "_view_count": null,
            "flex_flow": null,
            "width": null,
            "min_width": null,
            "border": null,
            "align_items": null,
            "bottom": null,
            "_model_module": "@jupyter-widgets/base",
            "top": null,
            "grid_column": null,
            "overflow_y": null,
            "overflow_x": null,
            "grid_auto_flow": null,
            "grid_area": null,
            "grid_template_columns": null,
            "flex": null,
            "_model_name": "LayoutModel",
            "justify_items": null,
            "grid_row": null,
            "max_height": null,
            "align_content": null,
            "visibility": null,
            "align_self": null,
            "height": null,
            "min_height": null,
            "padding": null,
            "grid_auto_rows": null,
            "grid_gap": null,
            "max_width": null,
            "order": null,
            "_view_module_version": "1.2.0",
            "grid_template_areas": null,
            "object_position": null,
            "object_fit": null,
            "grid_auto_columns": null,
            "margin": null,
            "display": null,
            "left": null
          }
        },
        "f0527cbe7bc444c1a64637ed7fd038ef": {
          "model_module": "@jupyter-widgets/controls",
          "model_name": "DescriptionStyleModel",
          "state": {
            "_view_name": "StyleView",
            "_model_name": "DescriptionStyleModel",
            "description_width": "",
            "_view_module": "@jupyter-widgets/base",
            "_model_module_version": "1.5.0",
            "_view_count": null,
            "_view_module_version": "1.2.0",
            "_model_module": "@jupyter-widgets/controls"
          }
        },
        "98fbb647b6be42d6a5434af9e75b0979": {
          "model_module": "@jupyter-widgets/base",
          "model_name": "LayoutModel",
          "state": {
            "_view_name": "LayoutView",
            "grid_template_rows": null,
            "right": null,
            "justify_content": null,
            "_view_module": "@jupyter-widgets/base",
            "overflow": null,
            "_model_module_version": "1.2.0",
            "_view_count": null,
            "flex_flow": null,
            "width": null,
            "min_width": null,
            "border": null,
            "align_items": null,
            "bottom": null,
            "_model_module": "@jupyter-widgets/base",
            "top": null,
            "grid_column": null,
            "overflow_y": null,
            "overflow_x": null,
            "grid_auto_flow": null,
            "grid_area": null,
            "grid_template_columns": null,
            "flex": null,
            "_model_name": "LayoutModel",
            "justify_items": null,
            "grid_row": null,
            "max_height": null,
            "align_content": null,
            "visibility": null,
            "align_self": null,
            "height": null,
            "min_height": null,
            "padding": null,
            "grid_auto_rows": null,
            "grid_gap": null,
            "max_width": null,
            "order": null,
            "_view_module_version": "1.2.0",
            "grid_template_areas": null,
            "object_position": null,
            "object_fit": null,
            "grid_auto_columns": null,
            "margin": null,
            "display": null,
            "left": null
          }
        }
      }
    }
  },
  "cells": [
    {
      "cell_type": "markdown",
      "metadata": {
        "id": "view-in-github",
        "colab_type": "text"
      },
      "source": [
        "<a href=\"https://colab.research.google.com/github/sizhky/Hands-On-Computer-Vision-with-PyTorch/blob/master/Chapter09/Semantic_Segmentation_with_U_Net.ipynb\" target=\"_parent\"><img src=\"https://colab.research.google.com/assets/colab-badge.svg\" alt=\"Open In Colab\"/></a>"
      ]
    },
    {
      "cell_type": "code",
      "metadata": {
        "id": "Ejcg6SqI6t1s",
        "outputId": "dd8f8ee5-05d3-4a6e-c829-ec908d34d1cd",
        "colab": {
          "base_uri": "https://localhost:8080/",
          "height": 90
        }
      },
      "source": [
        "import os\n",
        "if not os.path.exists('dataset1'):\n",
        "    !wget -q https://www.dropbox.com/s/0pigmmmynbf9xwq/dataset1.zip\n",
        "    !unzip -q dataset1.zip\n",
        "    !rm dataset1.zip\n",
        "    !pip install -q torch_snippets pytorch_model_summary\n",
        "\n",
        "from torch_snippets import *\n",
        "import torch\n",
        "from torchvision import transforms\n",
        "from sklearn.model_selection import train_test_split\n",
        "device = 'cuda' if torch.cuda.is_available() else 'cpu'\n",
        "import torch.nn as nn\n",
        "import torchvision.models"
      ],
      "execution_count": null,
      "outputs": [
        {
          "output_type": "stream",
          "text": [
            "\u001b[K     |████████████████████████████████| 36.7MB 69kB/s \n",
            "\u001b[K     |████████████████████████████████| 61kB 8.3MB/s \n",
            "\u001b[K     |████████████████████████████████| 102kB 10.9MB/s \n",
            "\u001b[?25h  Building wheel for contextvars (setup.py) ... \u001b[?25l\u001b[?25hdone\n"
          ],
          "name": "stdout"
        }
      ]
    },
    {
      "cell_type": "code",
      "metadata": {
        "id": "OV1yIyfI6x75"
      },
      "source": [
        "tfms = transforms.Compose([\n",
        "    transforms.ToTensor(),\n",
        "    transforms.Normalize([0.485, 0.456, 0.406], [0.229, 0.224, 0.225]) # imagenet\n",
        "])"
      ],
      "execution_count": null,
      "outputs": []
    },
    {
      "cell_type": "code",
      "metadata": {
        "id": "dM7ioR0Q61Ky"
      },
      "source": [
        "class SegData(Dataset):\n",
        "    def __init__(self, split):\n",
        "        self.items = stems(f'dataset1/images_prepped_{split}')\n",
        "        self.split = split\n",
        "    def __len__(self):\n",
        "        return len(self.items)\n",
        "    def __getitem__(self, ix):\n",
        "        image = read(f'dataset1/images_prepped_{self.split}/{self.items[ix]}.png', 1)\n",
        "        image = cv2.resize(image, (224,224))\n",
        "        mask = read(f'dataset1/annotations_prepped_{self.split}/{self.items[ix]}.png')\n",
        "        mask = cv2.resize(mask, (224,224))\n",
        "        return image, mask\n",
        "    def choose(self): return self[randint(len(self))]\n",
        "    def collate_fn(self, batch):\n",
        "        ims, masks = list(zip(*batch))\n",
        "        ims = torch.cat([tfms(im.copy()/255.)[None] for im in ims]).float().to(device)\n",
        "        ce_masks = torch.cat([torch.Tensor(mask[None]) for mask in masks]).long().to(device)\n",
        "        return ims, ce_masks"
      ],
      "execution_count": null,
      "outputs": []
    },
    {
      "cell_type": "code",
      "metadata": {
        "id": "0GfUzoJU692a",
        "outputId": "11939183-65a6-40b7-c94a-ca71e97546e1",
        "colab": {
          "base_uri": "https://localhost:8080/",
          "height": 54
        }
      },
      "source": [
        "trn_ds = SegData('train')\n",
        "val_ds = SegData('test')\n",
        "trn_dl = DataLoader(trn_ds, batch_size=4, shuffle=True, collate_fn=trn_ds.collate_fn)\n",
        "val_dl = DataLoader(val_ds, batch_size=1, shuffle=True, collate_fn=val_ds.collate_fn)"
      ],
      "execution_count": null,
      "outputs": [
        {
          "output_type": "stream",
          "text": [
            "2020-10-04 14:04:08.945 | INFO     | torch_snippets.loader:Glob:160 - 367 files found at dataset1/images_prepped_train\n",
            "2020-10-04 14:04:08.949 | INFO     | torch_snippets.loader:Glob:160 - 101 files found at dataset1/images_prepped_test\n"
          ],
          "name": "stderr"
        }
      ]
    },
    {
      "cell_type": "code",
      "metadata": {
        "id": "BoVRw7X97TtJ"
      },
      "source": [
        "def conv(in_channels, out_channels):\n",
        "    return nn.Sequential(\n",
        "        nn.Conv2d(in_channels, out_channels, kernel_size=3, stride=1, padding=1),\n",
        "        nn.BatchNorm2d(out_channels),\n",
        "        nn.ReLU(inplace=True)\n",
        "    )"
      ],
      "execution_count": null,
      "outputs": []
    },
    {
      "cell_type": "code",
      "metadata": {
        "id": "BTgCR4v17VG9"
      },
      "source": [
        "def up_conv(in_channels, out_channels):\n",
        "    return nn.ConvTranspose2d(\n",
        "        in_channels, out_channels, kernel_size=2, stride=2\n",
        "    )"
      ],
      "execution_count": null,
      "outputs": []
    },
    {
      "cell_type": "code",
      "metadata": {
        "id": "hotimH4w7XiK"
      },
      "source": [
        "from torchvision.models import vgg16_bn\n",
        "class UNet(nn.Module):\n",
        "    def __init__(self, pretrained=True, out_channels=12):\n",
        "        super().__init__()\n",
        "\n",
        "        self.encoder = vgg16_bn(pretrained=pretrained).features\n",
        "        self.block1 = nn.Sequential(*self.encoder[:6])\n",
        "        self.block2 = nn.Sequential(*self.encoder[6:13])\n",
        "        self.block3 = nn.Sequential(*self.encoder[13:20])\n",
        "        self.block4 = nn.Sequential(*self.encoder[20:27])\n",
        "        self.block5 = nn.Sequential(*self.encoder[27:34])\n",
        "\n",
        "        self.bottleneck = nn.Sequential(*self.encoder[34:])\n",
        "        self.conv_bottleneck = conv(512, 1024)\n",
        "\n",
        "        self.up_conv6 = up_conv(1024, 512)\n",
        "        self.conv6 = conv(512 + 512, 512)\n",
        "        self.up_conv7 = up_conv(512, 256)\n",
        "        self.conv7 = conv(256 + 512, 256)\n",
        "        self.up_conv8 = up_conv(256, 128)\n",
        "        self.conv8 = conv(128 + 256, 128)\n",
        "        self.up_conv9 = up_conv(128, 64)\n",
        "        self.conv9 = conv(64 + 128, 64)\n",
        "        self.up_conv10 = up_conv(64, 32)\n",
        "        self.conv10 = conv(32 + 64, 32)\n",
        "        self.conv11 = nn.Conv2d(32, out_channels, kernel_size=1)\n",
        "    def forward(self, x):\n",
        "        block1 = self.block1(x)\n",
        "        block2 = self.block2(block1)\n",
        "        block3 = self.block3(block2)\n",
        "        block4 = self.block4(block3)\n",
        "        block5 = self.block5(block4)\n",
        "\n",
        "        bottleneck = self.bottleneck(block5)\n",
        "        x = self.conv_bottleneck(bottleneck)\n",
        "\n",
        "        x = self.up_conv6(x)\n",
        "        x = torch.cat([x, block5], dim=1)\n",
        "        x = self.conv6(x)\n",
        "\n",
        "        x = self.up_conv7(x)\n",
        "        x = torch.cat([x, block4], dim=1)\n",
        "        x = self.conv7(x)\n",
        "\n",
        "        x = self.up_conv8(x)\n",
        "        x = torch.cat([x, block3], dim=1)\n",
        "        x = self.conv8(x)\n",
        "\n",
        "        x = self.up_conv9(x)\n",
        "        x = torch.cat([x, block2], dim=1)\n",
        "        x = self.conv9(x)\n",
        "\n",
        "        x = self.up_conv10(x)\n",
        "        x = torch.cat([x, block1], dim=1)\n",
        "        x = self.conv10(x)\n",
        "\n",
        "        x = self.conv11(x)\n",
        "\n",
        "        return x"
      ],
      "execution_count": null,
      "outputs": []
    },
    {
      "cell_type": "code",
      "metadata": {
        "id": "67F7IGar7uOo"
      },
      "source": [
        "ce = nn.CrossEntropyLoss()\n",
        "def UnetLoss(preds, targets):\n",
        "    ce_loss = ce(preds, targets)\n",
        "    acc = (torch.max(preds, 1)[1] == targets).float().mean()\n",
        "    return ce_loss, acc"
      ],
      "execution_count": null,
      "outputs": []
    },
    {
      "cell_type": "code",
      "metadata": {
        "id": "rLekeez67352"
      },
      "source": [
        "def train_batch(model, data, optimizer, criterion):\n",
        "    ims, ce_masks = data\n",
        "    _masks = model(ims)\n",
        "    optimizer.zero_grad()\n",
        "    loss, acc = criterion(_masks, ce_masks)\n",
        "    loss.backward()\n",
        "    optimizer.step()\n",
        "    return loss.item(), acc.item()\n",
        "\n",
        "@torch.no_grad()\n",
        "def validate_batch(model, data, criterion):\n",
        "    ims, masks = data\n",
        "    _masks = model(ims)\n",
        "    loss, acc = criterion(_masks, masks)\n",
        "    return loss.item(), acc.item()"
      ],
      "execution_count": null,
      "outputs": []
    },
    {
      "cell_type": "code",
      "metadata": {
        "id": "pZg23aCR76kH",
        "outputId": "45bdb191-498d-4447-bb40-ff4c5393e7d1",
        "colab": {
          "base_uri": "https://localhost:8080/",
          "height": 85,
          "referenced_widgets": [
            "1bbe984a22a24cd098b42f5c95279d35",
            "43a4daeda22a42469e3e93c21a879b54",
            "94bcd8681c27482e8a9dbbf4154a38d7",
            "76faa60f20c14566afe40bd6e120c493",
            "b364fa8b8bad458682cc58cce52ffa0a",
            "6182c5219510465dbe6b2d6883224432",
            "f0527cbe7bc444c1a64637ed7fd038ef",
            "98fbb647b6be42d6a5434af9e75b0979"
          ]
        }
      },
      "source": [
        "model = UNet().to(device)\n",
        "criterion = UnetLoss\n",
        "optimizer = optim.Adam(model.parameters(), lr=1e-3)\n",
        "n_epochs = 20"
      ],
      "execution_count": null,
      "outputs": [
        {
          "output_type": "stream",
          "text": [
            "Downloading: \"https://download.pytorch.org/models/vgg16_bn-6c64b313.pth\" to /root/.cache/torch/hub/checkpoints/vgg16_bn-6c64b313.pth\n"
          ],
          "name": "stderr"
        },
        {
          "output_type": "display_data",
          "data": {
            "application/vnd.jupyter.widget-view+json": {
              "model_id": "1bbe984a22a24cd098b42f5c95279d35",
              "version_minor": 0,
              "version_major": 2
            },
            "text/plain": [
              "HBox(children=(FloatProgress(value=0.0, max=553507836.0), HTML(value='')))"
            ]
          },
          "metadata": {
            "tags": []
          }
        },
        {
          "output_type": "stream",
          "text": [
            "\n"
          ],
          "name": "stdout"
        }
      ]
    },
    {
      "cell_type": "code",
      "metadata": {
        "id": "-3LmtAf178bg",
        "outputId": "b6823ae1-ee71-4c61-d3ec-08600cd638c8",
        "colab": {
          "base_uri": "https://localhost:8080/",
          "height": 381
        }
      },
      "source": [
        "log = Report(n_epochs)\n",
        "for ex in range(n_epochs):\n",
        "    N = len(trn_dl)\n",
        "    for bx, data in enumerate(trn_dl):\n",
        "        loss, acc = train_batch(model, data, optimizer, criterion)\n",
        "        log.record(ex+(bx+1)/N, trn_loss=loss, trn_acc=acc, end='\\r')\n",
        "\n",
        "    N = len(val_dl)\n",
        "    for bx, data in enumerate(val_dl):\n",
        "        loss, acc = validate_batch(model, data, criterion)\n",
        "        log.record(ex+(bx+1)/N, val_loss=loss, val_acc=acc, end='\\r')\n",
        "        \n",
        "    log.report_avgs(ex+1)"
      ],
      "execution_count": null,
      "outputs": [
        {
          "output_type": "stream",
          "text": [
            "EPOCH: 1.000\ttrn_loss: 1.256\ttrn_acc: 0.726\tval_loss: 0.911\tval_acc: 0.787\t(45.39s - 862.38s remaining)\n",
            "EPOCH: 2.000\ttrn_loss: 0.731\ttrn_acc: 0.818\tval_loss: 0.711\tval_acc: 0.840\t(91.85s - 826.63s remaining)\n",
            "EPOCH: 3.000\ttrn_loss: 0.598\ttrn_acc: 0.841\tval_loss: 0.614\tval_acc: 0.848\t(138.93s - 787.28s remaining)\n",
            "EPOCH: 4.000\ttrn_loss: 0.518\ttrn_acc: 0.860\tval_loss: 0.522\tval_acc: 0.858\t(186.05s - 744.19s remaining)\n",
            "EPOCH: 5.000\ttrn_loss: 0.478\ttrn_acc: 0.867\tval_loss: 0.508\tval_acc: 0.857\t(233.17s - 699.52s remaining)\n",
            "EPOCH: 6.000\ttrn_loss: 0.429\ttrn_acc: 0.881\tval_loss: 0.526\tval_acc: 0.843\t(280.32s - 654.09s remaining)\n",
            "EPOCH: 7.000\ttrn_loss: 0.442\ttrn_acc: 0.873\tval_loss: 0.486\tval_acc: 0.855\t(327.40s - 608.02s remaining)\n",
            "EPOCH: 8.000\ttrn_loss: 0.391\ttrn_acc: 0.889\tval_loss: 0.466\tval_acc: 0.860\t(374.56s - 561.83s remaining)\n",
            "EPOCH: 9.000\ttrn_loss: 0.375\ttrn_acc: 0.893\tval_loss: 0.425\tval_acc: 0.867\t(421.67s - 515.38s remaining)\n",
            "EPOCH: 10.000\ttrn_loss: 0.346\ttrn_acc: 0.903\tval_loss: 0.421\tval_acc: 0.878\t(468.77s - 468.77s remaining)\n",
            "EPOCH: 11.000\ttrn_loss: 0.333\ttrn_acc: 0.906\tval_loss: 0.434\tval_acc: 0.873\t(515.84s - 422.05s remaining)\n",
            "EPOCH: 12.000\ttrn_loss: 0.333\ttrn_acc: 0.906\tval_loss: 0.410\tval_acc: 0.881\t(562.98s - 375.32s remaining)\n",
            "EPOCH: 13.000\ttrn_loss: 0.308\ttrn_acc: 0.913\tval_loss: 0.413\tval_acc: 0.883\t(610.10s - 328.51s remaining)\n",
            "EPOCH: 14.000\ttrn_loss: 0.297\ttrn_acc: 0.916\tval_loss: 0.414\tval_acc: 0.879\t(657.20s - 281.66s remaining)\n",
            "EPOCH: 15.000\ttrn_loss: 0.274\ttrn_acc: 0.923\tval_loss: 0.373\tval_acc: 0.896\t(704.29s - 234.76s remaining)\n",
            "EPOCH: 16.000\ttrn_loss: 0.269\ttrn_acc: 0.924\tval_loss: 0.415\tval_acc: 0.879\t(751.48s - 187.87s remaining)\n",
            "EPOCH: 17.000\ttrn_loss: 0.263\ttrn_acc: 0.926\tval_loss: 0.348\tval_acc: 0.901\t(798.59s - 140.93s remaining)\n",
            "EPOCH: 18.000\ttrn_loss: 0.246\ttrn_acc: 0.931\tval_loss: 0.395\tval_acc: 0.890\t(845.81s - 93.98s remaining)\n",
            "EPOCH: 19.000\ttrn_loss: 0.234\ttrn_acc: 0.934\tval_loss: 0.355\tval_acc: 0.904\t(892.88s - 46.99s remaining)\n",
            "EPOCH: 20.000\ttrn_loss: 0.232\ttrn_acc: 0.934\tval_loss: 0.372\tval_acc: 0.902\t(940.11s - 0.00s remaining)\n"
          ],
          "name": "stdout"
        }
      ]
    },
    {
      "cell_type": "code",
      "metadata": {
        "id": "MjvljQJP8Aj0",
        "outputId": "ee93243a-e699-4a2c-d91e-4167d0d73d46",
        "colab": {
          "base_uri": "https://localhost:8080/",
          "height": 35
        }
      },
      "source": [
        "1"
      ],
      "execution_count": null,
      "outputs": [
        {
          "output_type": "execute_result",
          "data": {
            "text/plain": [
              "1"
            ]
          },
          "metadata": {
            "tags": []
          },
          "execution_count": 14
        }
      ]
    },
    {
      "cell_type": "code",
      "metadata": {
        "id": "h1PZUd7UFpMq",
        "outputId": "f4c76c7d-e94e-4af9-f921-439d7327bf8c",
        "colab": {
          "base_uri": "https://localhost:8080/",
          "height": 479
        }
      },
      "source": [
        "log.plot_epochs(['trn_loss','val_loss'])"
      ],
      "execution_count": null,
      "outputs": [
        {
          "output_type": "stream",
          "text": [
            "  0%|          | 0/20 [00:00<?, ?it/s]/usr/local/lib/python3.6/dist-packages/numpy/core/fromnumeric.py:3335: RuntimeWarning: Mean of empty slice.\n",
            "  out=out, **kwargs)\n",
            "/usr/local/lib/python3.6/dist-packages/numpy/core/_methods.py:161: RuntimeWarning: invalid value encountered in double_scalars\n",
            "  ret = ret.dtype.type(ret / rcount)\n",
            "100%|██████████| 20/20 [00:00<00:00, 1273.14it/s]\n"
          ],
          "name": "stderr"
        },
        {
          "output_type": "display_data",
          "data": {
            "image/png": "[encoded data removed]",
            "text/plain": [
              "<Figure size 576x432 with 1 Axes>"
            ]
          },
          "metadata": {
            "tags": [],
            "needs_background": "light"
          }
        }
      ]
    },
    {
      "cell_type": "code",
      "metadata": {
        "id": "0AC9s87lHdOS"
      },
      "source": [
        "im, mask = next(iter(val_dl))\n",
        "_mask = model(im)\n",
        "_, _mask = torch.max(_mask, dim=1)"
      ],
      "execution_count": null,
      "outputs": []
    },
    {
      "cell_type": "code",
      "metadata": {
        "id": "yXYhGLCOHenR",
        "outputId": "0a8061cf-d154-4e2a-bdfc-5092af6aca9e",
        "colab": {
          "base_uri": "https://localhost:8080/",
          "height": 163
        }
      },
      "source": [
        "subplots([im[0].permute(1,2,0).detach().cpu()[:,:,0],mask.permute(1,2,0).detach().cpu()[:,:,0]\n",
        "          ,_mask.permute(1,2,0).detach().cpu()[:,:,0]],nc=3, titles=['Original image','Original mask','Predicted mask'])"
      ],
      "execution_count": null,
      "outputs": [
        {
          "output_type": "stream",
          "text": [
            "2020-10-04 15:02:57.192 | INFO     | torch_snippets.loader:subplots:338 - plotting 3 images in a grid of 1x3 @ (5, 5)\n"
          ],
          "name": "stderr"
        },
        {
          "output_type": "display_data",
          "data": {
            "image/png": "[encoded data removed]",
            "text/plain": [
              "<Figure size 360x360 with 3 Axes>"
            ]
          },
          "metadata": {
            "tags": [],
            "needs_background": "light"
          }
        }
      ]
    },
    {
      "cell_type": "code",
      "metadata": {
        "id": "cBiSRGbOIxCm"
      },
      "source": [
        ""
      ],
      "execution_count": null,
      "outputs": []
    }
  ]
}