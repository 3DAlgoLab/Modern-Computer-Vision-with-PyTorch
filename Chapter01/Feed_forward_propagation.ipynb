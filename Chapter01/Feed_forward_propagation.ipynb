{
  "nbformat": 4,
  "nbformat_minor": 0,
  "metadata": {
    "colab": {
      "name": "Feed_forward_propagation.ipynb",
      "provenance": [],
      "collapsed_sections": [],
      "include_colab_link": true
    },
    "kernelspec": {
      "display_name": "Python 3",
      "language": "python",
      "name": "python3"
    },
    "language_info": {
      "codemirror_mode": {
        "name": "ipython",
        "version": 3
      },
      "file_extension": ".py",
      "mimetype": "text/x-python",
      "name": "python",
      "nbconvert_exporter": "python",
      "pygments_lexer": "ipython3",
      "version": "3.7.6"
    }
  },
  "cells": [
    {
      "cell_type": "markdown",
      "metadata": {
        "id": "view-in-github",
        "colab_type": "text"
      },
      "source": [
        "<a href=\"https://colab.research.google.com/github/PacktPublishing/Hands-On-Computer-Vision-with-PyTorch/blob/master/Chapter01/Feed_forward_propagation.ipynb\" target=\"_parent\"><img src=\"https://colab.research.google.com/assets/colab-badge.svg\" alt=\"Open In Colab\"/></a>"
      ]
    },
    {
      "cell_type": "markdown",
      "metadata": {
        "id": "Uk4Fezbb9SZc",
        "colab_type": "text"
      },
      "source": [
        "### Forward Propagation"
      ]
    },
    {
      "cell_type": "code",
      "metadata": {
        "ExecuteTime": {
          "end_time": "2020-09-24T12:46:03.594770Z",
          "start_time": "2020-09-24T12:46:03.589643Z"
        },
        "colab_type": "code",
        "id": "VytiqjTQgwf4",
        "colab": {}
      },
      "source": [
        "import numpy as np\n",
        "def feed_forward(inputs, outputs, weights, print_intermediate_values=False):       \n",
        "    pre_hidden = np.dot(inputs,weights[0])+ weights[1]\n",
        "    hidden = 1/(1+np.exp(-pre_hidden))\n",
        "    pred_out = np.dot(hidden, weights[2]) + weights[3]\n",
        "    mean_squared_error = np.mean(np.square(pred_out - outputs))\n",
        "    if print_intermediate_values:\n",
        "        print('Hidden:\\n\\t',hidden)\n",
        "        print('Predicted Output:\\n\\t',pred_out)\n",
        "    return mean_squared_error"
      ],
      "execution_count": null,
      "outputs": []
    },
    {
      "cell_type": "markdown",
      "metadata": {
        "id": "UUdKsDaK9SZi",
        "colab_type": "text"
      },
      "source": [
        "### Example Network\n",
        "\n",
        "![](https://packt-type-cloud.s3.amazonaws.com/uploads/sites/3987/2020/09/1_4.jpg)"
      ]
    },
    {
      "cell_type": "code",
      "metadata": {
        "ExecuteTime": {
          "end_time": "2020-09-24T12:46:04.070948Z",
          "start_time": "2020-09-24T12:46:04.058797Z"
        },
        "id": "tSjG6FyB9SZj",
        "colab_type": "code",
        "colab": {}
      },
      "source": [
        "inputs = [1,1]\n",
        "weights = [\n",
        "    [[0.8, 0.4, 0.3],\n",
        "     [0.2, 0.9, 0.5]],\n",
        "    [0, 0, 0],\n",
        "    \n",
        "    [0.3, 0.5, 0.9],\n",
        "    [0]\n",
        "]\n",
        "outputs = [0]\n",
        "\n",
        "inputs, weights, outputs = [np.array(tensor) for tensor in [inputs, weights, outputs]]"
      ],
      "execution_count": null,
      "outputs": []
    },
    {
      "cell_type": "code",
      "metadata": {
        "ExecuteTime": {
          "end_time": "2020-09-24T12:46:09.168661Z",
          "start_time": "2020-09-24T12:46:09.165434Z"
        },
        "id": "M4hH9x-39SZm",
        "colab_type": "code",
        "colab": {},
        "outputId": "70b3920d-6fc8-41c3-e5d4-01f959b59f24"
      },
      "source": [
        "loss = feed_forward(inputs, outputs, weights, print_intermediate_values=True)\n",
        "print('Loss:\\n\\t',loss)"
      ],
      "execution_count": null,
      "outputs": [
        {
          "output_type": "stream",
          "text": [
            "Hidden:\n",
            "\t [0.73105858 0.78583498 0.68997448]\n",
            "Predicted Output:\n",
            "\t [1.2332121]\n",
            "Loss:\n",
            "\t 1.5208120789621902\n"
          ],
          "name": "stdout"
        }
      ]
    },
    {
      "cell_type": "markdown",
      "metadata": {
        "id": "zHdrRfMD9SZp",
        "colab_type": "text"
      },
      "source": [
        "### Modularizing the code"
      ]
    },
    {
      "cell_type": "code",
      "metadata": {
        "ExecuteTime": {
          "end_time": "2020-09-24T12:53:37.937718Z",
          "start_time": "2020-09-24T12:53:37.931972Z"
        },
        "id": "ByaskjGQ9SZq",
        "colab_type": "code",
        "colab": {}
      },
      "source": [
        "def tanh(x): \n",
        "    return (np.exp(x)-np.exp(-x))/(np.exp(x)+np.exp(-x))\n",
        "\n",
        "def relu(x):       \n",
        "    return np.where(x>0,x,0)\n",
        "\n",
        "def sigmoid(x):\n",
        "    return 1/(1+np.exp(-x))\n",
        "    \n",
        "def linear(x):       \n",
        "    return x\n",
        "\n",
        "def softmax(x):       \n",
        "    return np.exp(x)/np.sum(np.exp(x))\n",
        "\n",
        "def mse(p, y):   \n",
        "    return np.mean(np.square(p - y))\n",
        "\n",
        "def mae(p, y):       \n",
        "    return np.mean(np.abs(p-y))\n",
        "\n",
        "def binary_cross_entropy(p, y):      \n",
        "    return -np.mean(np.sum((y*np.log2(p)+(1-y)*np.log2(1-p))))\n",
        "\n",
        "def categorical_cross_entropy(p, y):         \n",
        "    return -np.mean(np.sum(y*np.log2(p)))"
      ],
      "execution_count": null,
      "outputs": []
    },
    {
      "cell_type": "code",
      "metadata": {
        "ExecuteTime": {
          "end_time": "2020-09-24T12:56:50.153968Z",
          "start_time": "2020-09-24T12:56:50.149667Z"
        },
        "id": "MX2oPYhi9SZs",
        "colab_type": "code",
        "colab": {}
      },
      "source": [
        "def feed_forward_modularized(inputs, outputs, weights, \n",
        "                             activation_function, \n",
        "                             loss_function, \n",
        "                             print_intermediate_values=False):\n",
        "    assert activation_function in [sigmoid, tanh, relu, softmax, linear],\\\n",
        "        'activation function should be one of `sigmoid, tanh, relu, softmax, linear` only'\n",
        "    assert loss_function in [mse, mae, binary_cross_entropy, categorical_cross_entropy],\\\n",
        "        'activation function should be one of `mse, mae, binary_cross_entropy, categorical_cross_entropy` only'\n",
        "    pre_hidden = np.dot(inputs,weights[0])+ weights[1]\n",
        "    hidden = activation_function(pre_hidden)\n",
        "    pred_out = np.dot(hidden, weights[2]) + weights[3]\n",
        "    loss = loss_function(pred_out, outputs)\n",
        "    if print_intermediate_values:\n",
        "        print('Hidden:\\n\\t',hidden)\n",
        "        print('Predicted Output:\\n\\t',pred_out)\n",
        "    return loss"
      ],
      "execution_count": null,
      "outputs": []
    },
    {
      "cell_type": "code",
      "metadata": {
        "ExecuteTime": {
          "end_time": "2020-09-24T12:57:08.411276Z",
          "start_time": "2020-09-24T12:57:08.406182Z"
        },
        "id": "0_uy7e9w9SZv",
        "colab_type": "code",
        "colab": {},
        "outputId": "e1b99ac4-32ff-43c5-b008-57fe17dd272e"
      },
      "source": [
        "loss = feed_forward_modularized(inputs, outputs, weights, \n",
        "                                activation_function=sigmoid,\n",
        "                                loss_function=mse,\n",
        "                                print_intermediate_values=True)\n",
        "print('Loss:\\n\\t',loss)"
      ],
      "execution_count": null,
      "outputs": [
        {
          "output_type": "stream",
          "text": [
            "Hidden:\n",
            "\t [0.73105858 0.78583498 0.68997448]\n",
            "Predicted Output:\n",
            "\t [1.2332121]\n",
            "Loss:\n",
            "\t 1.5208120789621902\n"
          ],
          "name": "stdout"
        }
      ]
    },
    {
      "cell_type": "code",
      "metadata": {
        "id": "k2ReAN-J9SZy",
        "colab_type": "code",
        "colab": {}
      },
      "source": [
        ""
      ],
      "execution_count": null,
      "outputs": []
    }
  ]
}