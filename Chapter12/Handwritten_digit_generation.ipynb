{
  "nbformat": 4,
  "nbformat_minor": 0,
  "metadata": {
    "colab": {
      "name": "Handwritten_digit_generation.ipynb",
      "provenance": [],
      "include_colab_link": true
    },
    "kernelspec": {
      "name": "python3",
      "display_name": "Python 3"
    },
    "accelerator": "GPU",
    "widgets": {
      "application/vnd.jupyter.widget-state+json": {
        "dc4af564be00428791f5d4db7e1b3b5e": {
          "model_module": "@jupyter-widgets/controls",
          "model_name": "HBoxModel",
          "state": {
            "_view_name": "HBoxView",
            "_dom_classes": [],
            "_model_name": "HBoxModel",
            "_view_module": "@jupyter-widgets/controls",
            "_model_module_version": "1.5.0",
            "_view_count": null,
            "_view_module_version": "1.5.0",
            "box_style": "",
            "layout": "IPY_MODEL_c0d581174a794c06b03eec13c0ea05d6",
            "_model_module": "@jupyter-widgets/controls",
            "children": [
              "IPY_MODEL_3c739e5f42674e7184a2be03fde4ae36",
              "IPY_MODEL_1798ef7fb7734991b643b78e7bfd5870"
            ]
          }
        },
        "c0d581174a794c06b03eec13c0ea05d6": {
          "model_module": "@jupyter-widgets/base",
          "model_name": "LayoutModel",
          "state": {
            "_view_name": "LayoutView",
            "grid_template_rows": null,
            "right": null,
            "justify_content": null,
            "_view_module": "@jupyter-widgets/base",
            "overflow": null,
            "_model_module_version": "1.2.0",
            "_view_count": null,
            "flex_flow": null,
            "width": null,
            "min_width": null,
            "border": null,
            "align_items": null,
            "bottom": null,
            "_model_module": "@jupyter-widgets/base",
            "top": null,
            "grid_column": null,
            "overflow_y": null,
            "overflow_x": null,
            "grid_auto_flow": null,
            "grid_area": null,
            "grid_template_columns": null,
            "flex": null,
            "_model_name": "LayoutModel",
            "justify_items": null,
            "grid_row": null,
            "max_height": null,
            "align_content": null,
            "visibility": null,
            "align_self": null,
            "height": null,
            "min_height": null,
            "padding": null,
            "grid_auto_rows": null,
            "grid_gap": null,
            "max_width": null,
            "order": null,
            "_view_module_version": "1.2.0",
            "grid_template_areas": null,
            "object_position": null,
            "object_fit": null,
            "grid_auto_columns": null,
            "margin": null,
            "display": null,
            "left": null
          }
        },
        "3c739e5f42674e7184a2be03fde4ae36": {
          "model_module": "@jupyter-widgets/controls",
          "model_name": "FloatProgressModel",
          "state": {
            "_view_name": "ProgressView",
            "style": "IPY_MODEL_52d8348365d041a08805a951780c3875",
            "_dom_classes": [],
            "description": "",
            "_model_name": "FloatProgressModel",
            "bar_style": "info",
            "max": 1,
            "_view_module": "@jupyter-widgets/controls",
            "_model_module_version": "1.5.0",
            "value": 1,
            "_view_count": null,
            "_view_module_version": "1.5.0",
            "orientation": "horizontal",
            "min": 0,
            "description_tooltip": null,
            "_model_module": "@jupyter-widgets/controls",
            "layout": "IPY_MODEL_e9b2af8b25f242c7969fe4c0506d492d"
          }
        },
        "1798ef7fb7734991b643b78e7bfd5870": {
          "model_module": "@jupyter-widgets/controls",
          "model_name": "HTMLModel",
          "state": {
            "_view_name": "HTMLView",
            "style": "IPY_MODEL_2d3b61d1638a448cb6c1b8dcff9c7a9b",
            "_dom_classes": [],
            "description": "",
            "_model_name": "HTMLModel",
            "placeholder": "​",
            "_view_module": "@jupyter-widgets/controls",
            "_model_module_version": "1.5.0",
            "value": " 9920512/? [00:20&lt;00:00, 762120.12it/s]",
            "_view_count": null,
            "_view_module_version": "1.5.0",
            "description_tooltip": null,
            "_model_module": "@jupyter-widgets/controls",
            "layout": "IPY_MODEL_abbe7f1a07fc4dc6ba51a12d4eebe3f1"
          }
        },
        "52d8348365d041a08805a951780c3875": {
          "model_module": "@jupyter-widgets/controls",
          "model_name": "ProgressStyleModel",
          "state": {
            "_view_name": "StyleView",
            "_model_name": "ProgressStyleModel",
            "description_width": "initial",
            "_view_module": "@jupyter-widgets/base",
            "_model_module_version": "1.5.0",
            "_view_count": null,
            "_view_module_version": "1.2.0",
            "bar_color": null,
            "_model_module": "@jupyter-widgets/controls"
          }
        },
        "e9b2af8b25f242c7969fe4c0506d492d": {
          "model_module": "@jupyter-widgets/base",
          "model_name": "LayoutModel",
          "state": {
            "_view_name": "LayoutView",
            "grid_template_rows": null,
            "right": null,
            "justify_content": null,
            "_view_module": "@jupyter-widgets/base",
            "overflow": null,
            "_model_module_version": "1.2.0",
            "_view_count": null,
            "flex_flow": null,
            "width": null,
            "min_width": null,
            "border": null,
            "align_items": null,
            "bottom": null,
            "_model_module": "@jupyter-widgets/base",
            "top": null,
            "grid_column": null,
            "overflow_y": null,
            "overflow_x": null,
            "grid_auto_flow": null,
            "grid_area": null,
            "grid_template_columns": null,
            "flex": null,
            "_model_name": "LayoutModel",
            "justify_items": null,
            "grid_row": null,
            "max_height": null,
            "align_content": null,
            "visibility": null,
            "align_self": null,
            "height": null,
            "min_height": null,
            "padding": null,
            "grid_auto_rows": null,
            "grid_gap": null,
            "max_width": null,
            "order": null,
            "_view_module_version": "1.2.0",
            "grid_template_areas": null,
            "object_position": null,
            "object_fit": null,
            "grid_auto_columns": null,
            "margin": null,
            "display": null,
            "left": null
          }
        },
        "2d3b61d1638a448cb6c1b8dcff9c7a9b": {
          "model_module": "@jupyter-widgets/controls",
          "model_name": "DescriptionStyleModel",
          "state": {
            "_view_name": "StyleView",
            "_model_name": "DescriptionStyleModel",
            "description_width": "",
            "_view_module": "@jupyter-widgets/base",
            "_model_module_version": "1.5.0",
            "_view_count": null,
            "_view_module_version": "1.2.0",
            "_model_module": "@jupyter-widgets/controls"
          }
        },
        "abbe7f1a07fc4dc6ba51a12d4eebe3f1": {
          "model_module": "@jupyter-widgets/base",
          "model_name": "LayoutModel",
          "state": {
            "_view_name": "LayoutView",
            "grid_template_rows": null,
            "right": null,
            "justify_content": null,
            "_view_module": "@jupyter-widgets/base",
            "overflow": null,
            "_model_module_version": "1.2.0",
            "_view_count": null,
            "flex_flow": null,
            "width": null,
            "min_width": null,
            "border": null,
            "align_items": null,
            "bottom": null,
            "_model_module": "@jupyter-widgets/base",
            "top": null,
            "grid_column": null,
            "overflow_y": null,
            "overflow_x": null,
            "grid_auto_flow": null,
            "grid_area": null,
            "grid_template_columns": null,
            "flex": null,
            "_model_name": "LayoutModel",
            "justify_items": null,
            "grid_row": null,
            "max_height": null,
            "align_content": null,
            "visibility": null,
            "align_self": null,
            "height": null,
            "min_height": null,
            "padding": null,
            "grid_auto_rows": null,
            "grid_gap": null,
            "max_width": null,
            "order": null,
            "_view_module_version": "1.2.0",
            "grid_template_areas": null,
            "object_position": null,
            "object_fit": null,
            "grid_auto_columns": null,
            "margin": null,
            "display": null,
            "left": null
          }
        },
        "2aaacbebb4404ecbb6634cc9c5f9d891": {
          "model_module": "@jupyter-widgets/controls",
          "model_name": "HBoxModel",
          "state": {
            "_view_name": "HBoxView",
            "_dom_classes": [],
            "_model_name": "HBoxModel",
            "_view_module": "@jupyter-widgets/controls",
            "_model_module_version": "1.5.0",
            "_view_count": null,
            "_view_module_version": "1.5.0",
            "box_style": "",
            "layout": "IPY_MODEL_26f7c6d5d3dd45129c6559281068d4bc",
            "_model_module": "@jupyter-widgets/controls",
            "children": [
              "IPY_MODEL_80298db39c0745ba809ae03048b2c12a",
              "IPY_MODEL_a5dcbae06f4049819c1a2293bb950bd8"
            ]
          }
        },
        "26f7c6d5d3dd45129c6559281068d4bc": {
          "model_module": "@jupyter-widgets/base",
          "model_name": "LayoutModel",
          "state": {
            "_view_name": "LayoutView",
            "grid_template_rows": null,
            "right": null,
            "justify_content": null,
            "_view_module": "@jupyter-widgets/base",
            "overflow": null,
            "_model_module_version": "1.2.0",
            "_view_count": null,
            "flex_flow": null,
            "width": null,
            "min_width": null,
            "border": null,
            "align_items": null,
            "bottom": null,
            "_model_module": "@jupyter-widgets/base",
            "top": null,
            "grid_column": null,
            "overflow_y": null,
            "overflow_x": null,
            "grid_auto_flow": null,
            "grid_area": null,
            "grid_template_columns": null,
            "flex": null,
            "_model_name": "LayoutModel",
            "justify_items": null,
            "grid_row": null,
            "max_height": null,
            "align_content": null,
            "visibility": null,
            "align_self": null,
            "height": null,
            "min_height": null,
            "padding": null,
            "grid_auto_rows": null,
            "grid_gap": null,
            "max_width": null,
            "order": null,
            "_view_module_version": "1.2.0",
            "grid_template_areas": null,
            "object_position": null,
            "object_fit": null,
            "grid_auto_columns": null,
            "margin": null,
            "display": null,
            "left": null
          }
        },
        "80298db39c0745ba809ae03048b2c12a": {
          "model_module": "@jupyter-widgets/controls",
          "model_name": "FloatProgressModel",
          "state": {
            "_view_name": "ProgressView",
            "style": "IPY_MODEL_99ccb66ecf394cd88b4ce893f79b17e9",
            "_dom_classes": [],
            "description": "",
            "_model_name": "FloatProgressModel",
            "bar_style": "success",
            "max": 1,
            "_view_module": "@jupyter-widgets/controls",
            "_model_module_version": "1.5.0",
            "value": 1,
            "_view_count": null,
            "_view_module_version": "1.5.0",
            "orientation": "horizontal",
            "min": 0,
            "description_tooltip": null,
            "_model_module": "@jupyter-widgets/controls",
            "layout": "IPY_MODEL_bbf7933eea0e451a99799c38345ca012"
          }
        },
        "a5dcbae06f4049819c1a2293bb950bd8": {
          "model_module": "@jupyter-widgets/controls",
          "model_name": "HTMLModel",
          "state": {
            "_view_name": "HTMLView",
            "style": "IPY_MODEL_d221608932cc45a295170b5be15f498d",
            "_dom_classes": [],
            "description": "",
            "_model_name": "HTMLModel",
            "placeholder": "​",
            "_view_module": "@jupyter-widgets/controls",
            "_model_module_version": "1.5.0",
            "value": " 32768/? [00:00&lt;00:00, 105906.30it/s]",
            "_view_count": null,
            "_view_module_version": "1.5.0",
            "description_tooltip": null,
            "_model_module": "@jupyter-widgets/controls",
            "layout": "IPY_MODEL_568875c0ba814c7e8a58833aaf0cfd89"
          }
        },
        "99ccb66ecf394cd88b4ce893f79b17e9": {
          "model_module": "@jupyter-widgets/controls",
          "model_name": "ProgressStyleModel",
          "state": {
            "_view_name": "StyleView",
            "_model_name": "ProgressStyleModel",
            "description_width": "initial",
            "_view_module": "@jupyter-widgets/base",
            "_model_module_version": "1.5.0",
            "_view_count": null,
            "_view_module_version": "1.2.0",
            "bar_color": null,
            "_model_module": "@jupyter-widgets/controls"
          }
        },
        "bbf7933eea0e451a99799c38345ca012": {
          "model_module": "@jupyter-widgets/base",
          "model_name": "LayoutModel",
          "state": {
            "_view_name": "LayoutView",
            "grid_template_rows": null,
            "right": null,
            "justify_content": null,
            "_view_module": "@jupyter-widgets/base",
            "overflow": null,
            "_model_module_version": "1.2.0",
            "_view_count": null,
            "flex_flow": null,
            "width": null,
            "min_width": null,
            "border": null,
            "align_items": null,
            "bottom": null,
            "_model_module": "@jupyter-widgets/base",
            "top": null,
            "grid_column": null,
            "overflow_y": null,
            "overflow_x": null,
            "grid_auto_flow": null,
            "grid_area": null,
            "grid_template_columns": null,
            "flex": null,
            "_model_name": "LayoutModel",
            "justify_items": null,
            "grid_row": null,
            "max_height": null,
            "align_content": null,
            "visibility": null,
            "align_self": null,
            "height": null,
            "min_height": null,
            "padding": null,
            "grid_auto_rows": null,
            "grid_gap": null,
            "max_width": null,
            "order": null,
            "_view_module_version": "1.2.0",
            "grid_template_areas": null,
            "object_position": null,
            "object_fit": null,
            "grid_auto_columns": null,
            "margin": null,
            "display": null,
            "left": null
          }
        },
        "d221608932cc45a295170b5be15f498d": {
          "model_module": "@jupyter-widgets/controls",
          "model_name": "DescriptionStyleModel",
          "state": {
            "_view_name": "StyleView",
            "_model_name": "DescriptionStyleModel",
            "description_width": "",
            "_view_module": "@jupyter-widgets/base",
            "_model_module_version": "1.5.0",
            "_view_count": null,
            "_view_module_version": "1.2.0",
            "_model_module": "@jupyter-widgets/controls"
          }
        },
        "568875c0ba814c7e8a58833aaf0cfd89": {
          "model_module": "@jupyter-widgets/base",
          "model_name": "LayoutModel",
          "state": {
            "_view_name": "LayoutView",
            "grid_template_rows": null,
            "right": null,
            "justify_content": null,
            "_view_module": "@jupyter-widgets/base",
            "overflow": null,
            "_model_module_version": "1.2.0",
            "_view_count": null,
            "flex_flow": null,
            "width": null,
            "min_width": null,
            "border": null,
            "align_items": null,
            "bottom": null,
            "_model_module": "@jupyter-widgets/base",
            "top": null,
            "grid_column": null,
            "overflow_y": null,
            "overflow_x": null,
            "grid_auto_flow": null,
            "grid_area": null,
            "grid_template_columns": null,
            "flex": null,
            "_model_name": "LayoutModel",
            "justify_items": null,
            "grid_row": null,
            "max_height": null,
            "align_content": null,
            "visibility": null,
            "align_self": null,
            "height": null,
            "min_height": null,
            "padding": null,
            "grid_auto_rows": null,
            "grid_gap": null,
            "max_width": null,
            "order": null,
            "_view_module_version": "1.2.0",
            "grid_template_areas": null,
            "object_position": null,
            "object_fit": null,
            "grid_auto_columns": null,
            "margin": null,
            "display": null,
            "left": null
          }
        },
        "8d54d205047a4429b6640cb0a2a38b43": {
          "model_module": "@jupyter-widgets/controls",
          "model_name": "HBoxModel",
          "state": {
            "_view_name": "HBoxView",
            "_dom_classes": [],
            "_model_name": "HBoxModel",
            "_view_module": "@jupyter-widgets/controls",
            "_model_module_version": "1.5.0",
            "_view_count": null,
            "_view_module_version": "1.5.0",
            "box_style": "",
            "layout": "IPY_MODEL_2772e20d8a914b659bf70cac417fd598",
            "_model_module": "@jupyter-widgets/controls",
            "children": [
              "IPY_MODEL_fc95396de84c48f1af92375952789e5e",
              "IPY_MODEL_38011b7837a949c7a52d94f986545a4f"
            ]
          }
        },
        "2772e20d8a914b659bf70cac417fd598": {
          "model_module": "@jupyter-widgets/base",
          "model_name": "LayoutModel",
          "state": {
            "_view_name": "LayoutView",
            "grid_template_rows": null,
            "right": null,
            "justify_content": null,
            "_view_module": "@jupyter-widgets/base",
            "overflow": null,
            "_model_module_version": "1.2.0",
            "_view_count": null,
            "flex_flow": null,
            "width": null,
            "min_width": null,
            "border": null,
            "align_items": null,
            "bottom": null,
            "_model_module": "@jupyter-widgets/base",
            "top": null,
            "grid_column": null,
            "overflow_y": null,
            "overflow_x": null,
            "grid_auto_flow": null,
            "grid_area": null,
            "grid_template_columns": null,
            "flex": null,
            "_model_name": "LayoutModel",
            "justify_items": null,
            "grid_row": null,
            "max_height": null,
            "align_content": null,
            "visibility": null,
            "align_self": null,
            "height": null,
            "min_height": null,
            "padding": null,
            "grid_auto_rows": null,
            "grid_gap": null,
            "max_width": null,
            "order": null,
            "_view_module_version": "1.2.0",
            "grid_template_areas": null,
            "object_position": null,
            "object_fit": null,
            "grid_auto_columns": null,
            "margin": null,
            "display": null,
            "left": null
          }
        },
        "fc95396de84c48f1af92375952789e5e": {
          "model_module": "@jupyter-widgets/controls",
          "model_name": "FloatProgressModel",
          "state": {
            "_view_name": "ProgressView",
            "style": "IPY_MODEL_ea5c3c30060b4d90a87c6092c20afe36",
            "_dom_classes": [],
            "description": "",
            "_model_name": "FloatProgressModel",
            "bar_style": "info",
            "max": 1,
            "_view_module": "@jupyter-widgets/controls",
            "_model_module_version": "1.5.0",
            "value": 1,
            "_view_count": null,
            "_view_module_version": "1.5.0",
            "orientation": "horizontal",
            "min": 0,
            "description_tooltip": null,
            "_model_module": "@jupyter-widgets/controls",
            "layout": "IPY_MODEL_4624d937687348a6bb8bb8cd7f4ef008"
          }
        },
        "38011b7837a949c7a52d94f986545a4f": {
          "model_module": "@jupyter-widgets/controls",
          "model_name": "HTMLModel",
          "state": {
            "_view_name": "HTMLView",
            "style": "IPY_MODEL_8f013d700c0c4c3aab63b2824e395e0b",
            "_dom_classes": [],
            "description": "",
            "_model_name": "HTMLModel",
            "placeholder": "​",
            "_view_module": "@jupyter-widgets/controls",
            "_model_module_version": "1.5.0",
            "value": " 1654784/? [00:18&lt;00:00, 941174.23it/s]",
            "_view_count": null,
            "_view_module_version": "1.5.0",
            "description_tooltip": null,
            "_model_module": "@jupyter-widgets/controls",
            "layout": "IPY_MODEL_dc230f81a4d84a96aebd40abf200b4b5"
          }
        },
        "ea5c3c30060b4d90a87c6092c20afe36": {
          "model_module": "@jupyter-widgets/controls",
          "model_name": "ProgressStyleModel",
          "state": {
            "_view_name": "StyleView",
            "_model_name": "ProgressStyleModel",
            "description_width": "initial",
            "_view_module": "@jupyter-widgets/base",
            "_model_module_version": "1.5.0",
            "_view_count": null,
            "_view_module_version": "1.2.0",
            "bar_color": null,
            "_model_module": "@jupyter-widgets/controls"
          }
        },
        "4624d937687348a6bb8bb8cd7f4ef008": {
          "model_module": "@jupyter-widgets/base",
          "model_name": "LayoutModel",
          "state": {
            "_view_name": "LayoutView",
            "grid_template_rows": null,
            "right": null,
            "justify_content": null,
            "_view_module": "@jupyter-widgets/base",
            "overflow": null,
            "_model_module_version": "1.2.0",
            "_view_count": null,
            "flex_flow": null,
            "width": null,
            "min_width": null,
            "border": null,
            "align_items": null,
            "bottom": null,
            "_model_module": "@jupyter-widgets/base",
            "top": null,
            "grid_column": null,
            "overflow_y": null,
            "overflow_x": null,
            "grid_auto_flow": null,
            "grid_area": null,
            "grid_template_columns": null,
            "flex": null,
            "_model_name": "LayoutModel",
            "justify_items": null,
            "grid_row": null,
            "max_height": null,
            "align_content": null,
            "visibility": null,
            "align_self": null,
            "height": null,
            "min_height": null,
            "padding": null,
            "grid_auto_rows": null,
            "grid_gap": null,
            "max_width": null,
            "order": null,
            "_view_module_version": "1.2.0",
            "grid_template_areas": null,
            "object_position": null,
            "object_fit": null,
            "grid_auto_columns": null,
            "margin": null,
            "display": null,
            "left": null
          }
        },
        "8f013d700c0c4c3aab63b2824e395e0b": {
          "model_module": "@jupyter-widgets/controls",
          "model_name": "DescriptionStyleModel",
          "state": {
            "_view_name": "StyleView",
            "_model_name": "DescriptionStyleModel",
            "description_width": "",
            "_view_module": "@jupyter-widgets/base",
            "_model_module_version": "1.5.0",
            "_view_count": null,
            "_view_module_version": "1.2.0",
            "_model_module": "@jupyter-widgets/controls"
          }
        },
        "dc230f81a4d84a96aebd40abf200b4b5": {
          "model_module": "@jupyter-widgets/base",
          "model_name": "LayoutModel",
          "state": {
            "_view_name": "LayoutView",
            "grid_template_rows": null,
            "right": null,
            "justify_content": null,
            "_view_module": "@jupyter-widgets/base",
            "overflow": null,
            "_model_module_version": "1.2.0",
            "_view_count": null,
            "flex_flow": null,
            "width": null,
            "min_width": null,
            "border": null,
            "align_items": null,
            "bottom": null,
            "_model_module": "@jupyter-widgets/base",
            "top": null,
            "grid_column": null,
            "overflow_y": null,
            "overflow_x": null,
            "grid_auto_flow": null,
            "grid_area": null,
            "grid_template_columns": null,
            "flex": null,
            "_model_name": "LayoutModel",
            "justify_items": null,
            "grid_row": null,
            "max_height": null,
            "align_content": null,
            "visibility": null,
            "align_self": null,
            "height": null,
            "min_height": null,
            "padding": null,
            "grid_auto_rows": null,
            "grid_gap": null,
            "max_width": null,
            "order": null,
            "_view_module_version": "1.2.0",
            "grid_template_areas": null,
            "object_position": null,
            "object_fit": null,
            "grid_auto_columns": null,
            "margin": null,
            "display": null,
            "left": null
          }
        },
        "9bf7eb9bf5634dd6827806c21ce7b85f": {
          "model_module": "@jupyter-widgets/controls",
          "model_name": "HBoxModel",
          "state": {
            "_view_name": "HBoxView",
            "_dom_classes": [],
            "_model_name": "HBoxModel",
            "_view_module": "@jupyter-widgets/controls",
            "_model_module_version": "1.5.0",
            "_view_count": null,
            "_view_module_version": "1.5.0",
            "box_style": "",
            "layout": "IPY_MODEL_7e36e967c8714571ad8b065f72acb07a",
            "_model_module": "@jupyter-widgets/controls",
            "children": [
              "IPY_MODEL_2a29242673ab4cb688523272b914f2bc",
              "IPY_MODEL_0f04c0e0ad584b91842c7c037743e6ba"
            ]
          }
        },
        "7e36e967c8714571ad8b065f72acb07a": {
          "model_module": "@jupyter-widgets/base",
          "model_name": "LayoutModel",
          "state": {
            "_view_name": "LayoutView",
            "grid_template_rows": null,
            "right": null,
            "justify_content": null,
            "_view_module": "@jupyter-widgets/base",
            "overflow": null,
            "_model_module_version": "1.2.0",
            "_view_count": null,
            "flex_flow": null,
            "width": null,
            "min_width": null,
            "border": null,
            "align_items": null,
            "bottom": null,
            "_model_module": "@jupyter-widgets/base",
            "top": null,
            "grid_column": null,
            "overflow_y": null,
            "overflow_x": null,
            "grid_auto_flow": null,
            "grid_area": null,
            "grid_template_columns": null,
            "flex": null,
            "_model_name": "LayoutModel",
            "justify_items": null,
            "grid_row": null,
            "max_height": null,
            "align_content": null,
            "visibility": null,
            "align_self": null,
            "height": null,
            "min_height": null,
            "padding": null,
            "grid_auto_rows": null,
            "grid_gap": null,
            "max_width": null,
            "order": null,
            "_view_module_version": "1.2.0",
            "grid_template_areas": null,
            "object_position": null,
            "object_fit": null,
            "grid_auto_columns": null,
            "margin": null,
            "display": null,
            "left": null
          }
        },
        "2a29242673ab4cb688523272b914f2bc": {
          "model_module": "@jupyter-widgets/controls",
          "model_name": "FloatProgressModel",
          "state": {
            "_view_name": "ProgressView",
            "style": "IPY_MODEL_8441e2c023ac4938bb0079fa71527485",
            "_dom_classes": [],
            "description": "",
            "_model_name": "FloatProgressModel",
            "bar_style": "success",
            "max": 1,
            "_view_module": "@jupyter-widgets/controls",
            "_model_module_version": "1.5.0",
            "value": 1,
            "_view_count": null,
            "_view_module_version": "1.5.0",
            "orientation": "horizontal",
            "min": 0,
            "description_tooltip": null,
            "_model_module": "@jupyter-widgets/controls",
            "layout": "IPY_MODEL_84e84c53961d4680b83d248c1a60d6e8"
          }
        },
        "0f04c0e0ad584b91842c7c037743e6ba": {
          "model_module": "@jupyter-widgets/controls",
          "model_name": "HTMLModel",
          "state": {
            "_view_name": "HTMLView",
            "style": "IPY_MODEL_a13da37ad82441df8535ef60d59d3a2d",
            "_dom_classes": [],
            "description": "",
            "_model_name": "HTMLModel",
            "placeholder": "​",
            "_view_module": "@jupyter-widgets/controls",
            "_model_module_version": "1.5.0",
            "value": " 8192/? [00:03&lt;00:00, 2260.45it/s]",
            "_view_count": null,
            "_view_module_version": "1.5.0",
            "description_tooltip": null,
            "_model_module": "@jupyter-widgets/controls",
            "layout": "IPY_MODEL_1f1429b2d86b46d1b7de90b30c00c06e"
          }
        },
        "8441e2c023ac4938bb0079fa71527485": {
          "model_module": "@jupyter-widgets/controls",
          "model_name": "ProgressStyleModel",
          "state": {
            "_view_name": "StyleView",
            "_model_name": "ProgressStyleModel",
            "description_width": "initial",
            "_view_module": "@jupyter-widgets/base",
            "_model_module_version": "1.5.0",
            "_view_count": null,
            "_view_module_version": "1.2.0",
            "bar_color": null,
            "_model_module": "@jupyter-widgets/controls"
          }
        },
        "84e84c53961d4680b83d248c1a60d6e8": {
          "model_module": "@jupyter-widgets/base",
          "model_name": "LayoutModel",
          "state": {
            "_view_name": "LayoutView",
            "grid_template_rows": null,
            "right": null,
            "justify_content": null,
            "_view_module": "@jupyter-widgets/base",
            "overflow": null,
            "_model_module_version": "1.2.0",
            "_view_count": null,
            "flex_flow": null,
            "width": null,
            "min_width": null,
            "border": null,
            "align_items": null,
            "bottom": null,
            "_model_module": "@jupyter-widgets/base",
            "top": null,
            "grid_column": null,
            "overflow_y": null,
            "overflow_x": null,
            "grid_auto_flow": null,
            "grid_area": null,
            "grid_template_columns": null,
            "flex": null,
            "_model_name": "LayoutModel",
            "justify_items": null,
            "grid_row": null,
            "max_height": null,
            "align_content": null,
            "visibility": null,
            "align_self": null,
            "height": null,
            "min_height": null,
            "padding": null,
            "grid_auto_rows": null,
            "grid_gap": null,
            "max_width": null,
            "order": null,
            "_view_module_version": "1.2.0",
            "grid_template_areas": null,
            "object_position": null,
            "object_fit": null,
            "grid_auto_columns": null,
            "margin": null,
            "display": null,
            "left": null
          }
        },
        "a13da37ad82441df8535ef60d59d3a2d": {
          "model_module": "@jupyter-widgets/controls",
          "model_name": "DescriptionStyleModel",
          "state": {
            "_view_name": "StyleView",
            "_model_name": "DescriptionStyleModel",
            "description_width": "",
            "_view_module": "@jupyter-widgets/base",
            "_model_module_version": "1.5.0",
            "_view_count": null,
            "_view_module_version": "1.2.0",
            "_model_module": "@jupyter-widgets/controls"
          }
        },
        "1f1429b2d86b46d1b7de90b30c00c06e": {
          "model_module": "@jupyter-widgets/base",
          "model_name": "LayoutModel",
          "state": {
            "_view_name": "LayoutView",
            "grid_template_rows": null,
            "right": null,
            "justify_content": null,
            "_view_module": "@jupyter-widgets/base",
            "overflow": null,
            "_model_module_version": "1.2.0",
            "_view_count": null,
            "flex_flow": null,
            "width": null,
            "min_width": null,
            "border": null,
            "align_items": null,
            "bottom": null,
            "_model_module": "@jupyter-widgets/base",
            "top": null,
            "grid_column": null,
            "overflow_y": null,
            "overflow_x": null,
            "grid_auto_flow": null,
            "grid_area": null,
            "grid_template_columns": null,
            "flex": null,
            "_model_name": "LayoutModel",
            "justify_items": null,
            "grid_row": null,
            "max_height": null,
            "align_content": null,
            "visibility": null,
            "align_self": null,
            "height": null,
            "min_height": null,
            "padding": null,
            "grid_auto_rows": null,
            "grid_gap": null,
            "max_width": null,
            "order": null,
            "_view_module_version": "1.2.0",
            "grid_template_areas": null,
            "object_position": null,
            "object_fit": null,
            "grid_auto_columns": null,
            "margin": null,
            "display": null,
            "left": null
          }
        }
      }
    }
  },
  "cells": [
    {
      "cell_type": "markdown",
      "metadata": {
        "id": "view-in-github",
        "colab_type": "text"
      },
      "source": [
        "<a href=\"https://colab.research.google.com/github/sizhky/Hands-On-Computer-Vision-with-PyTorch/blob/master/Chapter12/Handwritten_digit_generation.ipynb\" target=\"_parent\"><img src=\"https://colab.research.google.com/assets/colab-badge.svg\" alt=\"Open In Colab\"/></a>"
      ]
    },
    {
      "cell_type": "code",
      "metadata": {
        "id": "4F4Y9mjDLg7K",
        "outputId": "95096e59-b9f3-4a69-caa1-78229471d4c2",
        "colab": {
          "base_uri": "https://localhost:8080/",
          "height": 85
        }
      },
      "source": [
        "!pip install -q torch_snippets\n",
        "from torch_snippets import *\n",
        "device = \"cuda\" if torch.cuda.is_available() else \"cpu\"\n",
        "from torchvision.utils import make_grid"
      ],
      "execution_count": null,
      "outputs": [
        {
          "output_type": "stream",
          "text": [
            "\u001b[K     |████████████████████████████████| 36.7MB 81kB/s \n",
            "\u001b[K     |████████████████████████████████| 61kB 6.8MB/s \n",
            "\u001b[K     |████████████████████████████████| 102kB 12.8MB/s \n",
            "\u001b[?25h  Building wheel for contextvars (setup.py) ... \u001b[?25l\u001b[?25hdone\n"
          ],
          "name": "stdout"
        }
      ]
    },
    {
      "cell_type": "code",
      "metadata": {
        "id": "UjwniYwPLjxm",
        "outputId": "184637fe-d736-4ebc-9640-736798ff541e",
        "colab": {
          "base_uri": "https://localhost:8080/",
          "height": 386,
          "referenced_widgets": [
            "dc4af564be00428791f5d4db7e1b3b5e",
            "c0d581174a794c06b03eec13c0ea05d6",
            "3c739e5f42674e7184a2be03fde4ae36",
            "1798ef7fb7734991b643b78e7bfd5870",
            "52d8348365d041a08805a951780c3875",
            "e9b2af8b25f242c7969fe4c0506d492d",
            "2d3b61d1638a448cb6c1b8dcff9c7a9b",
            "abbe7f1a07fc4dc6ba51a12d4eebe3f1",
            "2aaacbebb4404ecbb6634cc9c5f9d891",
            "26f7c6d5d3dd45129c6559281068d4bc",
            "80298db39c0745ba809ae03048b2c12a",
            "a5dcbae06f4049819c1a2293bb950bd8",
            "99ccb66ecf394cd88b4ce893f79b17e9",
            "bbf7933eea0e451a99799c38345ca012",
            "d221608932cc45a295170b5be15f498d",
            "568875c0ba814c7e8a58833aaf0cfd89",
            "8d54d205047a4429b6640cb0a2a38b43",
            "2772e20d8a914b659bf70cac417fd598",
            "fc95396de84c48f1af92375952789e5e",
            "38011b7837a949c7a52d94f986545a4f",
            "ea5c3c30060b4d90a87c6092c20afe36",
            "4624d937687348a6bb8bb8cd7f4ef008",
            "8f013d700c0c4c3aab63b2824e395e0b",
            "dc230f81a4d84a96aebd40abf200b4b5",
            "9bf7eb9bf5634dd6827806c21ce7b85f",
            "7e36e967c8714571ad8b065f72acb07a",
            "2a29242673ab4cb688523272b914f2bc",
            "0f04c0e0ad584b91842c7c037743e6ba",
            "8441e2c023ac4938bb0079fa71527485",
            "84e84c53961d4680b83d248c1a60d6e8",
            "a13da37ad82441df8535ef60d59d3a2d",
            "1f1429b2d86b46d1b7de90b30c00c06e"
          ]
        }
      },
      "source": [
        "from torchvision.datasets import MNIST\n",
        "from torchvision import transforms\n",
        "\n",
        "transform = transforms.Compose([\n",
        "        transforms.ToTensor(),\n",
        "        transforms.Normalize(mean=(0.5,), std=(0.5,))\n",
        "])\n",
        "\n",
        "data_loader = torch.utils.data.DataLoader(MNIST('~/data', train=True, download=True, transform=transform),batch_size=128, shuffle=True, drop_last=True)"
      ],
      "execution_count": null,
      "outputs": [
        {
          "output_type": "stream",
          "text": [
            "Downloading http://yann.lecun.com/exdb/mnist/train-images-idx3-ubyte.gz to /root/data/MNIST/raw/train-images-idx3-ubyte.gz\n"
          ],
          "name": "stdout"
        },
        {
          "output_type": "display_data",
          "data": {
            "application/vnd.jupyter.widget-view+json": {
              "model_id": "dc4af564be00428791f5d4db7e1b3b5e",
              "version_minor": 0,
              "version_major": 2
            },
            "text/plain": [
              "HBox(children=(FloatProgress(value=1.0, bar_style='info', max=1.0), HTML(value='')))"
            ]
          },
          "metadata": {
            "tags": []
          }
        },
        {
          "output_type": "stream",
          "text": [
            "Extracting /root/data/MNIST/raw/train-images-idx3-ubyte.gz to /root/data/MNIST/raw\n",
            "Downloading http://yann.lecun.com/exdb/mnist/train-labels-idx1-ubyte.gz to /root/data/MNIST/raw/train-labels-idx1-ubyte.gz\n"
          ],
          "name": "stdout"
        },
        {
          "output_type": "display_data",
          "data": {
            "application/vnd.jupyter.widget-view+json": {
              "model_id": "2aaacbebb4404ecbb6634cc9c5f9d891",
              "version_minor": 0,
              "version_major": 2
            },
            "text/plain": [
              "HBox(children=(FloatProgress(value=1.0, bar_style='info', max=1.0), HTML(value='')))"
            ]
          },
          "metadata": {
            "tags": []
          }
        },
        {
          "output_type": "stream",
          "text": [
            "Extracting /root/data/MNIST/raw/train-labels-idx1-ubyte.gz to /root/data/MNIST/raw\n",
            "Downloading http://yann.lecun.com/exdb/mnist/t10k-images-idx3-ubyte.gz to /root/data/MNIST/raw/t10k-images-idx3-ubyte.gz\n",
            "\n"
          ],
          "name": "stdout"
        },
        {
          "output_type": "display_data",
          "data": {
            "application/vnd.jupyter.widget-view+json": {
              "model_id": "8d54d205047a4429b6640cb0a2a38b43",
              "version_minor": 0,
              "version_major": 2
            },
            "text/plain": [
              "HBox(children=(FloatProgress(value=1.0, bar_style='info', max=1.0), HTML(value='')))"
            ]
          },
          "metadata": {
            "tags": []
          }
        },
        {
          "output_type": "stream",
          "text": [
            "Extracting /root/data/MNIST/raw/t10k-images-idx3-ubyte.gz to /root/data/MNIST/raw\n",
            "Downloading http://yann.lecun.com/exdb/mnist/t10k-labels-idx1-ubyte.gz to /root/data/MNIST/raw/t10k-labels-idx1-ubyte.gz\n"
          ],
          "name": "stdout"
        },
        {
          "output_type": "display_data",
          "data": {
            "application/vnd.jupyter.widget-view+json": {
              "model_id": "9bf7eb9bf5634dd6827806c21ce7b85f",
              "version_minor": 0,
              "version_major": 2
            },
            "text/plain": [
              "HBox(children=(FloatProgress(value=1.0, bar_style='info', max=1.0), HTML(value='')))"
            ]
          },
          "metadata": {
            "tags": []
          }
        },
        {
          "output_type": "stream",
          "text": [
            "Extracting /root/data/MNIST/raw/t10k-labels-idx1-ubyte.gz to /root/data/MNIST/raw\n",
            "Processing...\n",
            "Done!\n"
          ],
          "name": "stdout"
        },
        {
          "output_type": "stream",
          "text": [
            "/usr/local/lib/python3.6/dist-packages/torchvision/datasets/mnist.py:469: UserWarning: The given NumPy array is not writeable, and PyTorch does not support non-writeable tensors. This means you can write to the underlying (supposedly non-writeable) NumPy array using the tensor. You may want to copy the array to protect its data or make it writeable before converting it to a tensor. This type of warning will be suppressed for the rest of this program. (Triggered internally at  /pytorch/torch/csrc/utils/tensor_numpy.cpp:141.)\n",
            "  return torch.from_numpy(parsed.astype(m[2], copy=False)).view(*s)\n"
          ],
          "name": "stderr"
        }
      ]
    },
    {
      "cell_type": "code",
      "metadata": {
        "id": "Cz2SvYrOLma0"
      },
      "source": [
        "class Discriminator(nn.Module):\n",
        "    def __init__(self):\n",
        "        super().__init__()\n",
        "        self.model = nn.Sequential( \n",
        "            nn.Linear(784, 1024),\n",
        "            nn.LeakyReLU(0.2),\n",
        "            nn.Dropout(0.3),\n",
        "            nn.Linear(1024, 512),\n",
        "            nn.LeakyReLU(0.2),\n",
        "            nn.Dropout(0.3),\n",
        "            nn.Linear(512, 256),\n",
        "            nn.LeakyReLU(0.2),\n",
        "            nn.Dropout(0.3),\n",
        "            nn.Linear(256, 1),\n",
        "            nn.Sigmoid()\n",
        "        )\n",
        "    def forward(self, x): return self.model(x)"
      ],
      "execution_count": null,
      "outputs": []
    },
    {
      "cell_type": "code",
      "metadata": {
        "id": "vz06q6NxLoke",
        "outputId": "ec3e7ede-1fcd-4035-d6d3-16b108879f7d",
        "colab": {
          "base_uri": "https://localhost:8080/",
          "height": 986
        }
      },
      "source": [
        "!pip install torch_summary\n",
        "from torchsummary import summary\n",
        "discriminator = Discriminator().to(device)\n",
        "summary(discriminator,torch.zeros(1,784));"
      ],
      "execution_count": null,
      "outputs": [
        {
          "output_type": "stream",
          "text": [
            "Collecting torch_summary\n",
            "  Downloading https://files.pythonhosted.org/packages/83/49/f9db57bcad7246591b93519fd8e5166c719548c45945ef7d2fc9fcba46fb/torch_summary-1.4.3-py3-none-any.whl\n",
            "Installing collected packages: torch-summary\n",
            "Successfully installed torch-summary-1.4.3\n",
            "\n",
            "==========================================================================================\n",
            "Layer (type:depth-idx)                   Output Shape              Param #\n",
            "==========================================================================================\n",
            "├─Sequential: 1-1                        [-1, 1]                   --\n",
            "|    └─Linear: 2-1                       [-1, 1024]                803,840\n",
            "|    └─LeakyReLU: 2-2                    [-1, 1024]                --\n",
            "|    └─Dropout: 2-3                      [-1, 1024]                --\n",
            "|    └─Linear: 2-4                       [-1, 512]                 524,800\n",
            "|    └─LeakyReLU: 2-5                    [-1, 512]                 --\n",
            "|    └─Dropout: 2-6                      [-1, 512]                 --\n",
            "|    └─Linear: 2-7                       [-1, 256]                 131,328\n",
            "|    └─LeakyReLU: 2-8                    [-1, 256]                 --\n",
            "|    └─Dropout: 2-9                      [-1, 256]                 --\n",
            "|    └─Linear: 2-10                      [-1, 1]                   257\n",
            "|    └─Sigmoid: 2-11                     [-1, 1]                   --\n",
            "==========================================================================================\n",
            "Total params: 1,460,225\n",
            "Trainable params: 1,460,225\n",
            "Non-trainable params: 0\n",
            "Total mult-adds (M): 2.92\n",
            "==========================================================================================\n",
            "Input size (MB): 0.00\n",
            "Forward/backward pass size (MB): 0.01\n",
            "Params size (MB): 5.57\n",
            "Estimated Total Size (MB): 5.59\n",
            "==========================================================================================\n"
          ],
          "name": "stdout"
        },
        {
          "output_type": "execute_result",
          "data": {
            "text/plain": [
              "==========================================================================================\n",
              "Layer (type:depth-idx)                   Output Shape              Param #\n",
              "==========================================================================================\n",
              "├─Sequential: 1-1                        [-1, 1]                   --\n",
              "|    └─Linear: 2-1                       [-1, 1024]                803,840\n",
              "|    └─LeakyReLU: 2-2                    [-1, 1024]                --\n",
              "|    └─Dropout: 2-3                      [-1, 1024]                --\n",
              "|    └─Linear: 2-4                       [-1, 512]                 524,800\n",
              "|    └─LeakyReLU: 2-5                    [-1, 512]                 --\n",
              "|    └─Dropout: 2-6                      [-1, 512]                 --\n",
              "|    └─Linear: 2-7                       [-1, 256]                 131,328\n",
              "|    └─LeakyReLU: 2-8                    [-1, 256]                 --\n",
              "|    └─Dropout: 2-9                      [-1, 256]                 --\n",
              "|    └─Linear: 2-10                      [-1, 1]                   257\n",
              "|    └─Sigmoid: 2-11                     [-1, 1]                   --\n",
              "==========================================================================================\n",
              "Total params: 1,460,225\n",
              "Trainable params: 1,460,225\n",
              "Non-trainable params: 0\n",
              "Total mult-adds (M): 2.92\n",
              "==========================================================================================\n",
              "Input size (MB): 0.00\n",
              "Forward/backward pass size (MB): 0.01\n",
              "Params size (MB): 5.57\n",
              "Estimated Total Size (MB): 5.59\n",
              "=========================================================================================="
            ]
          },
          "metadata": {
            "tags": []
          },
          "execution_count": 4
        }
      ]
    },
    {
      "cell_type": "code",
      "metadata": {
        "id": "gjwVeoBnLqI7"
      },
      "source": [
        "class Generator(nn.Module):\n",
        "    def __init__(self):\n",
        "        super().__init__()\n",
        "        self.model = nn.Sequential(\n",
        "            nn.Linear(100, 256),\n",
        "            nn.LeakyReLU(0.2),\n",
        "            nn.Linear(256, 512),\n",
        "            nn.LeakyReLU(0.2),\n",
        "            nn.Linear(512, 1024),\n",
        "            nn.LeakyReLU(0.2),\n",
        "            nn.Linear(1024, 784),\n",
        "            nn.Tanh()\n",
        "        )\n",
        "\n",
        "    def forward(self, x): return self.model(x)"
      ],
      "execution_count": null,
      "outputs": []
    },
    {
      "cell_type": "code",
      "metadata": {
        "id": "7sdMO2agLr7K",
        "outputId": "c67ae603-2c72-4f01-efda-e0838c0d6d36",
        "colab": {
          "base_uri": "https://localhost:8080/",
          "height": 595
        }
      },
      "source": [
        "generator = Generator().to(device)\n",
        "summary(generator,input_size=torch.zeros(1,100));"
      ],
      "execution_count": null,
      "outputs": [
        {
          "output_type": "stream",
          "text": [
            "=================================================================\n",
            "Layer (type:depth-idx)                   Param #\n",
            "=================================================================\n",
            "├─Sequential: 1-1                        --\n",
            "|    └─Linear: 2-1                       25,856\n",
            "|    └─LeakyReLU: 2-2                    --\n",
            "|    └─Linear: 2-3                       131,584\n",
            "|    └─LeakyReLU: 2-4                    --\n",
            "|    └─Linear: 2-5                       525,312\n",
            "|    └─LeakyReLU: 2-6                    --\n",
            "|    └─Linear: 2-7                       803,600\n",
            "|    └─Tanh: 2-8                         --\n",
            "=================================================================\n",
            "Total params: 1,486,352\n",
            "Trainable params: 1,486,352\n",
            "Non-trainable params: 0\n",
            "=================================================================\n"
          ],
          "name": "stdout"
        },
        {
          "output_type": "execute_result",
          "data": {
            "text/plain": [
              "=================================================================\n",
              "Layer (type:depth-idx)                   Param #\n",
              "=================================================================\n",
              "├─Sequential: 1-1                        --\n",
              "|    └─Linear: 2-1                       25,856\n",
              "|    └─LeakyReLU: 2-2                    --\n",
              "|    └─Linear: 2-3                       131,584\n",
              "|    └─LeakyReLU: 2-4                    --\n",
              "|    └─Linear: 2-5                       525,312\n",
              "|    └─LeakyReLU: 2-6                    --\n",
              "|    └─Linear: 2-7                       803,600\n",
              "|    └─Tanh: 2-8                         --\n",
              "=================================================================\n",
              "Total params: 1,486,352\n",
              "Trainable params: 1,486,352\n",
              "Non-trainable params: 0\n",
              "================================================================="
            ]
          },
          "metadata": {
            "tags": []
          },
          "execution_count": 6
        }
      ]
    },
    {
      "cell_type": "code",
      "metadata": {
        "id": "TVV4bzGJLtdd"
      },
      "source": [
        "def noise(size):\n",
        "    n = torch.randn(size, 100)\n",
        "    return n.to(device)"
      ],
      "execution_count": null,
      "outputs": []
    },
    {
      "cell_type": "code",
      "metadata": {
        "id": "zXfDrf4bLvJU"
      },
      "source": [
        "def discriminator_train_step(real_data, fake_data):\n",
        "    d_optimizer.zero_grad()\n",
        "    prediction_real = discriminator(real_data)\n",
        "    error_real = loss(prediction_real, torch.ones(len(real_data), 1).to(device))\n",
        "    error_real.backward()\n",
        "    prediction_fake = discriminator(fake_data)\n",
        "    error_fake = loss(prediction_fake, torch.zeros(len(fake_data), 1).to(device))\n",
        "    error_fake.backward()\n",
        "    d_optimizer.step()\n",
        "    return error_real + error_fake"
      ],
      "execution_count": null,
      "outputs": []
    },
    {
      "cell_type": "code",
      "metadata": {
        "id": "bEBIL62_L521"
      },
      "source": [
        "def generator_train_step(fake_data):\n",
        "    g_optimizer.zero_grad()\n",
        "    prediction = discriminator(fake_data)\n",
        "    error = loss(prediction, torch.ones(len(real_data), 1).to(device))\n",
        "    error.backward()\n",
        "    g_optimizer.step()\n",
        "    return error"
      ],
      "execution_count": null,
      "outputs": []
    },
    {
      "cell_type": "code",
      "metadata": {
        "id": "i9iwYH7EMG2q"
      },
      "source": [
        "discriminator = Discriminator().to(device)\n",
        "generator = Generator().to(device)\n",
        "d_optimizer = optim.Adam(discriminator.parameters(), lr=0.0002)\n",
        "g_optimizer = optim.Adam(generator.parameters(), lr=0.0002)\n",
        "loss = nn.BCELoss()\n",
        "num_epochs = 200\n",
        "log = Report(num_epochs)"
      ],
      "execution_count": null,
      "outputs": []
    },
    {
      "cell_type": "code",
      "metadata": {
        "id": "r6hGJnhlMIsI",
        "outputId": "7384037d-ede0-4766-b382-e495d8bf49f3",
        "colab": {
          "base_uri": "https://localhost:8080/",
          "height": 1000
        }
      },
      "source": [
        "for epoch in range(num_epochs):\n",
        "    N = len(data_loader)\n",
        "    for i, (images, _) in enumerate(data_loader):\n",
        "        real_data = images.view(len(images), -1).to(device)\n",
        "        fake_data = generator(noise(len(real_data))).to(device)\n",
        "        fake_data = fake_data.detach()\n",
        "        d_loss = discriminator_train_step(real_data, fake_data)\n",
        "        fake_data = generator(noise(len(real_data))).to(device)\n",
        "        g_loss = generator_train_step(fake_data)\n",
        "        log.record(epoch+(1+i)/N, d_loss=d_loss.item(), g_loss=g_loss.item(), end='\\r')\n",
        "    log.report_avgs(epoch+1)\n",
        "log.plot_epochs(['d_loss', 'g_loss'])"
      ],
      "execution_count": null,
      "outputs": [
        {
          "output_type": "stream",
          "text": [
            "EPOCH: 1.000\td_loss: 0.845\tg_loss: 3.935\t(12.63s - 2513.95s remaining)\n",
            "EPOCH: 2.000\td_loss: 1.080\tg_loss: 2.012\t(24.77s - 2452.65s remaining)\n",
            "EPOCH: 3.000\td_loss: 0.879\tg_loss: 1.918\t(36.85s - 2419.95s remaining)\n",
            "EPOCH: 4.000\td_loss: 0.661\tg_loss: 2.450\t(48.98s - 2400.03s remaining)\n",
            "EPOCH: 5.000\td_loss: 0.420\tg_loss: 3.349\t(61.13s - 2384.03s remaining)\n",
            "EPOCH: 6.000\td_loss: 0.424\tg_loss: 3.527\t(73.33s - 2370.98s remaining)\n",
            "EPOCH: 7.000\td_loss: 0.523\tg_loss: 2.867\t(85.47s - 2356.56s remaining)\n",
            "EPOCH: 8.000\td_loss: 0.509\tg_loss: 2.945\t(97.61s - 2342.61s remaining)\n",
            "EPOCH: 9.000\td_loss: 0.511\tg_loss: 2.951\t(109.73s - 2328.77s remaining)\n",
            "EPOCH: 10.000\td_loss: 0.526\tg_loss: 2.806\t(121.84s - 2314.90s remaining)\n",
            "EPOCH: 11.000\td_loss: 0.535\tg_loss: 2.749\t(133.95s - 2301.47s remaining)\n",
            "EPOCH: 12.000\td_loss: 0.514\tg_loss: 2.875\t(146.07s - 2288.46s remaining)\n",
            "EPOCH: 13.000\td_loss: 0.646\tg_loss: 2.483\t(158.44s - 2279.13s remaining)\n",
            "EPOCH: 14.000\td_loss: 0.640\tg_loss: 2.374\t(170.67s - 2267.53s remaining)\n",
            "EPOCH: 15.000\td_loss: 0.709\tg_loss: 2.238\t(182.78s - 2254.26s remaining)\n",
            "EPOCH: 16.000\td_loss: 0.637\tg_loss: 2.473\t(194.79s - 2240.07s remaining)\n",
            "EPOCH: 17.000\td_loss: 0.685\tg_loss: 2.192\t(206.91s - 2227.30s remaining)\n",
            "EPOCH: 18.000\td_loss: 0.721\tg_loss: 2.152\t(219.04s - 2214.74s remaining)\n",
            "EPOCH: 19.000\td_loss: 0.803\tg_loss: 1.957\t(231.19s - 2202.43s remaining)\n",
            "EPOCH: 20.000\td_loss: 0.805\tg_loss: 1.958\t(243.18s - 2188.66s remaining)\n",
            "EPOCH: 21.000\td_loss: 0.770\tg_loss: 1.999\t(255.13s - 2174.69s remaining)\n",
            "EPOCH: 22.000\td_loss: 0.808\tg_loss: 1.997\t(267.14s - 2161.39s remaining)\n",
            "EPOCH: 23.000\td_loss: 0.808\tg_loss: 1.870\t(279.20s - 2148.61s remaining)\n",
            "EPOCH: 24.000\td_loss: 0.840\tg_loss: 1.790\t(291.30s - 2136.17s remaining)\n",
            "EPOCH: 25.000\td_loss: 0.815\tg_loss: 1.848\t(303.39s - 2123.76s remaining)\n",
            "EPOCH: 26.000\td_loss: 0.848\tg_loss: 1.800\t(315.46s - 2111.14s remaining)\n",
            "EPOCH: 27.000\td_loss: 0.868\tg_loss: 1.727\t(327.54s - 2098.70s remaining)\n",
            "EPOCH: 28.000\td_loss: 0.907\tg_loss: 1.607\t(339.58s - 2085.97s remaining)\n",
            "EPOCH: 29.000\td_loss: 0.884\tg_loss: 1.672\t(351.59s - 2073.17s remaining)\n",
            "EPOCH: 30.000\td_loss: 0.934\tg_loss: 1.576\t(363.56s - 2060.16s remaining)\n",
            "EPOCH: 31.000\td_loss: 0.942\tg_loss: 1.593\t(375.69s - 2048.09s remaining)\n",
            "EPOCH: 32.000\td_loss: 0.940\tg_loss: 1.564\t(387.78s - 2035.84s remaining)\n",
            "EPOCH: 33.000\td_loss: 0.969\tg_loss: 1.504\t(399.86s - 2023.55s remaining)\n",
            "EPOCH: 34.000\td_loss: 0.936\tg_loss: 1.593\t(411.96s - 2011.35s remaining)\n",
            "EPOCH: 35.000\td_loss: 0.928\tg_loss: 1.602\t(424.03s - 1998.98s remaining)\n",
            "EPOCH: 36.000\td_loss: 0.950\tg_loss: 1.533\t(436.05s - 1986.47s remaining)\n",
            "EPOCH: 37.000\td_loss: 0.984\tg_loss: 1.480\t(448.05s - 1973.86s remaining)\n",
            "EPOCH: 38.000\td_loss: 0.983\tg_loss: 1.459\t(460.07s - 1961.34s remaining)\n",
            "EPOCH: 39.000\td_loss: 0.982\tg_loss: 1.468\t(472.48s - 1950.50s remaining)\n",
            "EPOCH: 40.000\td_loss: 0.981\tg_loss: 1.466\t(484.39s - 1937.54s remaining)\n",
            "EPOCH: 41.000\td_loss: 1.006\tg_loss: 1.421\t(496.34s - 1924.82s remaining)\n",
            "EPOCH: 42.000\td_loss: 1.041\tg_loss: 1.341\t(508.28s - 1912.11s remaining)\n",
            "EPOCH: 43.000\td_loss: 1.045\tg_loss: 1.344\t(520.37s - 1899.94s remaining)\n",
            "EPOCH: 44.000\td_loss: 1.029\tg_loss: 1.367\t(532.39s - 1887.57s remaining)\n",
            "EPOCH: 45.000\td_loss: 1.052\tg_loss: 1.292\t(544.40s - 1875.17s remaining)\n",
            "EPOCH: 46.000\td_loss: 1.049\tg_loss: 1.303\t(556.46s - 1862.94s remaining)\n",
            "EPOCH: 47.000\td_loss: 1.052\tg_loss: 1.314\t(568.43s - 1850.42s remaining)\n",
            "EPOCH: 48.000\td_loss: 1.053\tg_loss: 1.308\t(580.38s - 1837.88s remaining)\n",
            "EPOCH: 49.000\td_loss: 1.073\tg_loss: 1.262\t(592.37s - 1825.46s remaining)\n",
            "EPOCH: 50.000\td_loss: 1.059\tg_loss: 1.294\t(604.30s - 1812.91s remaining)\n",
            "EPOCH: 51.000\td_loss: 1.073\tg_loss: 1.261\t(616.32s - 1800.62s remaining)\n",
            "EPOCH: 52.000\td_loss: 1.084\tg_loss: 1.243\t(628.43s - 1788.61s remaining)\n",
            "EPOCH: 53.000\td_loss: 1.114\tg_loss: 1.194\t(640.49s - 1776.44s remaining)\n",
            "EPOCH: 54.000\td_loss: 1.112\tg_loss: 1.194\t(652.61s - 1764.48s remaining)\n",
            "EPOCH: 55.000\td_loss: 1.118\tg_loss: 1.191\t(664.64s - 1752.24s remaining)\n",
            "EPOCH: 56.000\td_loss: 1.122\tg_loss: 1.199\t(676.67s - 1740.00s remaining)\n",
            "EPOCH: 57.000\td_loss: 1.123\tg_loss: 1.185\t(688.71s - 1727.81s remaining)\n",
            "EPOCH: 58.000\td_loss: 1.134\tg_loss: 1.157\t(700.80s - 1715.75s remaining)\n",
            "EPOCH: 59.000\td_loss: 1.131\tg_loss: 1.166\t(713.00s - 1703.95s remaining)\n",
            "EPOCH: 60.000\td_loss: 1.132\tg_loss: 1.159\t(725.10s - 1691.90s remaining)\n",
            "EPOCH: 61.000\td_loss: 1.123\tg_loss: 1.165\t(737.19s - 1679.83s remaining)\n",
            "EPOCH: 62.000\td_loss: 1.134\tg_loss: 1.148\t(749.29s - 1667.77s remaining)\n",
            "EPOCH: 63.000\td_loss: 1.136\tg_loss: 1.157\t(761.31s - 1655.54s remaining)\n",
            "EPOCH: 64.000\td_loss: 1.144\tg_loss: 1.143\t(773.48s - 1643.64s remaining)\n",
            "EPOCH: 65.000\td_loss: 1.143\tg_loss: 1.117\t(785.86s - 1632.18s remaining)\n",
            "EPOCH: 66.000\td_loss: 1.165\tg_loss: 1.099\t(797.95s - 1620.08s remaining)\n",
            "EPOCH: 67.000\td_loss: 1.164\tg_loss: 1.104\t(810.07s - 1608.06s remaining)\n",
            "EPOCH: 68.000\td_loss: 1.175\tg_loss: 1.069\t(822.22s - 1596.07s remaining)\n",
            "EPOCH: 69.000\td_loss: 1.167\tg_loss: 1.081\t(834.26s - 1583.89s remaining)\n",
            "EPOCH: 70.000\td_loss: 1.171\tg_loss: 1.080\t(846.21s - 1571.54s remaining)\n",
            "EPOCH: 71.000\td_loss: 1.186\tg_loss: 1.057\t(858.23s - 1559.31s remaining)\n",
            "EPOCH: 72.000\td_loss: 1.188\tg_loss: 1.049\t(870.36s - 1547.31s remaining)\n",
            "EPOCH: 73.000\td_loss: 1.192\tg_loss: 1.066\t(882.38s - 1535.10s remaining)\n",
            "EPOCH: 74.000\td_loss: 1.167\tg_loss: 1.084\t(894.46s - 1523.00s remaining)\n",
            "EPOCH: 75.000\td_loss: 1.179\tg_loss: 1.069\t(906.59s - 1510.98s remaining)\n",
            "EPOCH: 76.000\td_loss: 1.171\tg_loss: 1.088\t(918.63s - 1498.81s remaining)\n",
            "EPOCH: 77.000\td_loss: 1.173\tg_loss: 1.099\t(930.72s - 1486.74s remaining)\n",
            "EPOCH: 78.000\td_loss: 1.169\tg_loss: 1.082\t(942.84s - 1474.70s remaining)\n",
            "EPOCH: 79.000\td_loss: 1.166\tg_loss: 1.095\t(955.00s - 1462.72s remaining)\n",
            "EPOCH: 80.000\td_loss: 1.189\tg_loss: 1.054\t(967.06s - 1450.60s remaining)\n",
            "EPOCH: 81.000\td_loss: 1.188\tg_loss: 1.053\t(979.18s - 1438.55s remaining)\n",
            "EPOCH: 82.000\td_loss: 1.199\tg_loss: 1.042\t(991.45s - 1426.72s remaining)\n",
            "EPOCH: 83.000\td_loss: 1.197\tg_loss: 1.025\t(1003.63s - 1414.75s remaining)\n",
            "EPOCH: 84.000\td_loss: 1.202\tg_loss: 1.032\t(1015.86s - 1402.85s remaining)\n",
            "EPOCH: 85.000\td_loss: 1.211\tg_loss: 1.021\t(1028.14s - 1391.02s remaining)\n",
            "EPOCH: 86.000\td_loss: 1.210\tg_loss: 1.002\t(1040.39s - 1379.12s remaining)\n",
            "EPOCH: 87.000\td_loss: 1.214\tg_loss: 1.011\t(1052.60s - 1367.17s remaining)\n",
            "EPOCH: 88.000\td_loss: 1.206\tg_loss: 1.034\t(1064.70s - 1355.08s remaining)\n",
            "EPOCH: 89.000\td_loss: 1.202\tg_loss: 1.029\t(1076.73s - 1342.88s remaining)\n",
            "EPOCH: 90.000\td_loss: 1.205\tg_loss: 1.019\t(1089.07s - 1331.09s remaining)\n",
            "EPOCH: 91.000\td_loss: 1.217\tg_loss: 1.006\t(1101.29s - 1319.13s remaining)\n",
            "EPOCH: 92.000\td_loss: 1.206\tg_loss: 1.019\t(1113.47s - 1307.11s remaining)\n",
            "EPOCH: 93.000\td_loss: 1.221\tg_loss: 0.987\t(1125.62s - 1295.07s remaining)\n",
            "EPOCH: 94.000\td_loss: 1.216\tg_loss: 0.991\t(1137.54s - 1282.76s remaining)\n",
            "EPOCH: 95.000\td_loss: 1.220\tg_loss: 0.997\t(1149.50s - 1270.50s remaining)\n",
            "EPOCH: 96.000\td_loss: 1.204\tg_loss: 1.023\t(1161.50s - 1258.29s remaining)\n",
            "EPOCH: 97.000\td_loss: 1.221\tg_loss: 0.999\t(1173.40s - 1245.98s remaining)\n",
            "EPOCH: 98.000\td_loss: 1.207\tg_loss: 1.010\t(1185.42s - 1233.80s remaining)\n",
            "EPOCH: 99.000\td_loss: 1.226\tg_loss: 0.994\t(1197.46s - 1221.65s remaining)\n",
            "EPOCH: 100.000\td_loss: 1.225\tg_loss: 0.984\t(1209.35s - 1209.35s remaining)\n",
            "EPOCH: 101.000\td_loss: 1.222\tg_loss: 0.992\t(1221.23s - 1197.05s remaining)\n",
            "EPOCH: 102.000\td_loss: 1.233\tg_loss: 0.983\t(1233.16s - 1184.80s remaining)\n",
            "EPOCH: 103.000\td_loss: 1.230\tg_loss: 0.970\t(1245.09s - 1172.56s remaining)\n",
            "EPOCH: 104.000\td_loss: 1.233\tg_loss: 0.972\t(1257.02s - 1160.33s remaining)\n",
            "EPOCH: 105.000\td_loss: 1.229\tg_loss: 0.976\t(1268.98s - 1148.13s remaining)\n",
            "EPOCH: 106.000\td_loss: 1.223\tg_loss: 0.999\t(1281.01s - 1135.99s remaining)\n",
            "EPOCH: 107.000\td_loss: 1.231\tg_loss: 0.968\t(1292.86s - 1123.70s remaining)\n",
            "EPOCH: 108.000\td_loss: 1.242\tg_loss: 0.955\t(1304.72s - 1111.42s remaining)\n",
            "EPOCH: 109.000\td_loss: 1.239\tg_loss: 0.972\t(1316.59s - 1099.17s remaining)\n",
            "EPOCH: 110.000\td_loss: 1.241\tg_loss: 0.957\t(1328.56s - 1087.00s remaining)\n",
            "EPOCH: 111.000\td_loss: 1.244\tg_loss: 0.973\t(1340.57s - 1074.87s remaining)\n",
            "EPOCH: 112.000\td_loss: 1.241\tg_loss: 0.958\t(1352.50s - 1062.68s remaining)\n",
            "EPOCH: 113.000\td_loss: 1.249\tg_loss: 0.974\t(1364.36s - 1050.44s remaining)\n",
            "EPOCH: 114.000\td_loss: 1.234\tg_loss: 0.995\t(1376.19s - 1038.18s remaining)\n",
            "EPOCH: 115.000\td_loss: 1.241\tg_loss: 0.965\t(1388.06s - 1025.96s remaining)\n",
            "EPOCH: 116.000\td_loss: 1.253\tg_loss: 0.942\t(1400.23s - 1013.96s remaining)\n",
            "EPOCH: 117.000\td_loss: 1.251\tg_loss: 0.937\t(1412.25s - 1001.85s remaining)\n",
            "EPOCH: 118.000\td_loss: 1.248\tg_loss: 0.941\t(1424.25s - 989.73s remaining)\n",
            "EPOCH: 119.000\td_loss: 1.249\tg_loss: 0.944\t(1436.43s - 977.74s remaining)\n",
            "EPOCH: 120.000\td_loss: 1.247\tg_loss: 0.946\t(1448.36s - 965.58s remaining)\n",
            "EPOCH: 121.000\td_loss: 1.245\tg_loss: 0.951\t(1460.18s - 953.34s remaining)\n",
            "EPOCH: 122.000\td_loss: 1.244\tg_loss: 0.955\t(1472.04s - 941.14s remaining)\n",
            "EPOCH: 123.000\td_loss: 1.257\tg_loss: 0.926\t(1483.89s - 928.94s remaining)\n",
            "EPOCH: 124.000\td_loss: 1.249\tg_loss: 0.955\t(1495.83s - 916.80s remaining)\n",
            "EPOCH: 125.000\td_loss: 1.251\tg_loss: 0.948\t(1508.01s - 904.80s remaining)\n",
            "EPOCH: 126.000\td_loss: 1.245\tg_loss: 0.945\t(1520.19s - 892.81s remaining)\n",
            "EPOCH: 127.000\td_loss: 1.249\tg_loss: 0.943\t(1532.16s - 880.69s remaining)\n",
            "EPOCH: 128.000\td_loss: 1.247\tg_loss: 0.948\t(1544.08s - 868.55s remaining)\n",
            "EPOCH: 129.000\td_loss: 1.251\tg_loss: 0.944\t(1555.95s - 856.38s remaining)\n",
            "EPOCH: 130.000\td_loss: 1.251\tg_loss: 0.954\t(1567.91s - 844.26s remaining)\n",
            "EPOCH: 131.000\td_loss: 1.252\tg_loss: 0.932\t(1579.73s - 832.07s remaining)\n",
            "EPOCH: 132.000\td_loss: 1.251\tg_loss: 0.947\t(1591.72s - 819.98s remaining)\n",
            "EPOCH: 133.000\td_loss: 1.255\tg_loss: 0.943\t(1603.67s - 807.86s remaining)\n",
            "EPOCH: 134.000\td_loss: 1.241\tg_loss: 0.966\t(1615.53s - 795.71s remaining)\n",
            "EPOCH: 135.000\td_loss: 1.258\tg_loss: 0.933\t(1627.44s - 783.58s remaining)\n",
            "EPOCH: 136.000\td_loss: 1.259\tg_loss: 0.921\t(1639.28s - 771.42s remaining)\n",
            "EPOCH: 137.000\td_loss: 1.261\tg_loss: 0.928\t(1651.17s - 759.30s remaining)\n",
            "EPOCH: 138.000\td_loss: 1.248\tg_loss: 0.948\t(1663.01s - 747.15s remaining)\n",
            "EPOCH: 139.000\td_loss: 1.260\tg_loss: 0.928\t(1674.94s - 735.05s remaining)\n",
            "EPOCH: 140.000\td_loss: 1.261\tg_loss: 0.925\t(1686.86s - 722.94s remaining)\n",
            "EPOCH: 141.000\td_loss: 1.257\tg_loss: 0.922\t(1698.72s - 710.81s remaining)\n",
            "EPOCH: 142.000\td_loss: 1.252\tg_loss: 0.952\t(1710.83s - 698.79s remaining)\n",
            "EPOCH: 143.000\td_loss: 1.252\tg_loss: 0.951\t(1722.95s - 686.77s remaining)\n",
            "EPOCH: 144.000\td_loss: 1.262\tg_loss: 0.927\t(1734.97s - 674.71s remaining)\n",
            "EPOCH: 145.000\td_loss: 1.271\tg_loss: 0.923\t(1747.13s - 662.70s remaining)\n",
            "EPOCH: 146.000\td_loss: 1.252\tg_loss: 0.938\t(1759.15s - 650.64s remaining)\n",
            "EPOCH: 147.000\td_loss: 1.260\tg_loss: 0.930\t(1770.93s - 638.50s remaining)\n",
            "EPOCH: 148.000\td_loss: 1.270\tg_loss: 0.937\t(1782.84s - 626.40s remaining)\n",
            "EPOCH: 149.000\td_loss: 1.256\tg_loss: 0.950\t(1794.81s - 614.33s remaining)\n",
            "EPOCH: 150.000\td_loss: 1.252\tg_loss: 0.941\t(1806.74s - 602.25s remaining)\n",
            "EPOCH: 151.000\td_loss: 1.260\tg_loss: 0.912\t(1818.68s - 590.17s remaining)\n",
            "EPOCH: 152.000\td_loss: 1.270\tg_loss: 0.919\t(1830.61s - 578.09s remaining)\n",
            "EPOCH: 153.000\td_loss: 1.261\tg_loss: 0.913\t(1842.67s - 566.05s remaining)\n",
            "EPOCH: 154.000\td_loss: 1.270\tg_loss: 0.918\t(1854.50s - 553.94s remaining)\n",
            "EPOCH: 155.000\td_loss: 1.263\tg_loss: 0.929\t(1866.43s - 541.87s remaining)\n",
            "EPOCH: 156.000\td_loss: 1.262\tg_loss: 0.927\t(1878.35s - 529.79s remaining)\n",
            "EPOCH: 157.000\td_loss: 1.258\tg_loss: 0.940\t(1890.21s - 517.70s remaining)\n",
            "EPOCH: 158.000\td_loss: 1.258\tg_loss: 0.926\t(1902.13s - 505.63s remaining)\n",
            "EPOCH: 159.000\td_loss: 1.267\tg_loss: 0.912\t(1914.02s - 493.55s remaining)\n",
            "EPOCH: 160.000\td_loss: 1.269\tg_loss: 0.902\t(1925.84s - 481.46s remaining)\n",
            "EPOCH: 161.000\td_loss: 1.276\tg_loss: 0.901\t(1937.73s - 469.39s remaining)\n",
            "EPOCH: 162.000\td_loss: 1.264\tg_loss: 0.934\t(1949.44s - 457.28s remaining)\n",
            "EPOCH: 163.000\td_loss: 1.255\tg_loss: 0.939\t(1961.19s - 445.18s remaining)\n",
            "EPOCH: 164.000\td_loss: 1.268\tg_loss: 0.917\t(1972.87s - 433.07s remaining)\n",
            "EPOCH: 165.000\td_loss: 1.267\tg_loss: 0.913\t(1984.57s - 420.97s remaining)\n",
            "EPOCH: 166.000\td_loss: 1.273\tg_loss: 0.902\t(1996.42s - 408.91s remaining)\n",
            "EPOCH: 167.000\td_loss: 1.267\tg_loss: 0.914\t(2008.28s - 396.85s remaining)\n",
            "EPOCH: 168.000\td_loss: 1.268\tg_loss: 0.899\t(2020.19s - 384.80s remaining)\n",
            "EPOCH: 169.000\td_loss: 1.273\tg_loss: 0.906\t(2032.01s - 372.74s remaining)\n",
            "EPOCH: 170.000\td_loss: 1.262\tg_loss: 0.923\t(2043.91s - 360.69s remaining)\n",
            "EPOCH: 171.000\td_loss: 1.279\tg_loss: 0.898\t(2055.59s - 348.61s remaining)\n",
            "EPOCH: 172.000\td_loss: 1.274\tg_loss: 0.900\t(2067.30s - 336.54s remaining)\n",
            "EPOCH: 173.000\td_loss: 1.281\tg_loss: 0.905\t(2079.15s - 324.49s remaining)\n",
            "EPOCH: 174.000\td_loss: 1.270\tg_loss: 0.917\t(2090.82s - 312.42s remaining)\n",
            "EPOCH: 175.000\td_loss: 1.269\tg_loss: 0.910\t(2102.63s - 300.38s remaining)\n",
            "EPOCH: 176.000\td_loss: 1.276\tg_loss: 0.895\t(2114.25s - 288.31s remaining)\n",
            "EPOCH: 177.000\td_loss: 1.275\tg_loss: 0.891\t(2125.92s - 276.25s remaining)\n",
            "EPOCH: 178.000\td_loss: 1.276\tg_loss: 0.901\t(2137.53s - 264.19s remaining)\n",
            "EPOCH: 179.000\td_loss: 1.283\tg_loss: 0.899\t(2149.26s - 252.15s remaining)\n",
            "EPOCH: 180.000\td_loss: 1.275\tg_loss: 0.903\t(2161.02s - 240.11s remaining)\n",
            "EPOCH: 181.000\td_loss: 1.269\tg_loss: 0.911\t(2172.58s - 228.06s remaining)\n",
            "EPOCH: 182.000\td_loss: 1.269\tg_loss: 0.915\t(2184.19s - 216.02s remaining)\n",
            "EPOCH: 183.000\td_loss: 1.273\tg_loss: 0.895\t(2195.84s - 203.99s remaining)\n",
            "EPOCH: 184.000\td_loss: 1.273\tg_loss: 0.907\t(2207.45s - 191.95s remaining)\n",
            "EPOCH: 185.000\td_loss: 1.273\tg_loss: 0.910\t(2219.22s - 179.94s remaining)\n",
            "EPOCH: 186.000\td_loss: 1.274\tg_loss: 0.904\t(2231.08s - 167.93s remaining)\n",
            "EPOCH: 187.000\td_loss: 1.275\tg_loss: 0.903\t(2242.97s - 155.93s remaining)\n",
            "EPOCH: 188.000\td_loss: 1.272\tg_loss: 0.902\t(2254.68s - 143.92s remaining)\n",
            "EPOCH: 189.000\td_loss: 1.274\tg_loss: 0.904\t(2266.37s - 131.90s remaining)\n",
            "EPOCH: 190.000\td_loss: 1.277\tg_loss: 0.893\t(2278.03s - 119.90s remaining)\n",
            "EPOCH: 191.000\td_loss: 1.280\tg_loss: 0.893\t(2289.74s - 107.89s remaining)\n",
            "EPOCH: 192.000\td_loss: 1.279\tg_loss: 0.895\t(2301.37s - 95.89s remaining)\n",
            "EPOCH: 193.000\td_loss: 1.279\tg_loss: 0.891\t(2313.08s - 83.89s remaining)\n",
            "EPOCH: 194.000\td_loss: 1.278\tg_loss: 0.891\t(2324.89s - 71.90s remaining)\n",
            "EPOCH: 195.000\td_loss: 1.273\tg_loss: 0.917\t(2336.98s - 59.92s remaining)\n",
            "EPOCH: 196.000\td_loss: 1.276\tg_loss: 0.892\t(2348.90s - 47.94s remaining)\n",
            "EPOCH: 197.000\td_loss: 1.272\tg_loss: 0.900\t(2360.64s - 35.95s remaining)\n",
            "EPOCH: 198.000\td_loss: 1.284\tg_loss: 0.893\t(2372.27s - 23.96s remaining)\n",
            "EPOCH: 199.000\td_loss: 1.281\tg_loss: 0.917\t(2384.05s - 11.98s remaining)\n",
            "EPOCH: 199.998\td_loss: 1.305\tg_loss: 1.003\t(2395.72s - 0.03s remaining)"
          ],
          "name": "stdout"
        },
        {
          "output_type": "stream",
          "text": [
            "  0%|          | 0/200 [00:00<?, ?it/s]/usr/local/lib/python3.6/dist-packages/numpy/core/fromnumeric.py:3335: RuntimeWarning: Mean of empty slice.\n",
            "  out=out, **kwargs)\n",
            "/usr/local/lib/python3.6/dist-packages/numpy/core/_methods.py:161: RuntimeWarning: invalid value encountered in double_scalars\n",
            "  ret = ret.dtype.type(ret / rcount)\n",
            " 13%|█▎        | 26/200 [00:00<00:00, 253.21it/s]"
          ],
          "name": "stderr"
        },
        {
          "output_type": "stream",
          "text": [
            "\rEPOCH: 200.000\td_loss: 1.232\tg_loss: 0.927\t(2395.75s - 0.00s remaining)\rEPOCH: 200.000\td_loss: 1.272\tg_loss: 0.903\t(2395.78s - 0.00s remaining)\n"
          ],
          "name": "stdout"
        },
        {
          "output_type": "stream",
          "text": [
            "100%|██████████| 200/200 [00:03<00:00, 61.98it/s]\n"
          ],
          "name": "stderr"
        },
        {
          "output_type": "display_data",
          "data": {
            "image/png": "[encoded data removed]",
            "text/plain": [
              "<Figure size 576x432 with 1 Axes>"
            ]
          },
          "metadata": {
            "tags": [],
            "needs_background": "light"
          }
        }
      ]
    },
    {
      "cell_type": "code",
      "metadata": {
        "id": "fvZRlrrRMX6F",
        "outputId": "b3c55c23-1951-44bb-e7f3-f5b652494131",
        "colab": {
          "base_uri": "https://localhost:8080/",
          "height": 303
        }
      },
      "source": [
        "z = torch.randn(64, 100).to(device)\n",
        "sample_images = generator(z).data.cpu().view(64, 1, 28, 28)\n",
        "grid = make_grid(sample_images, nrow=8, normalize=True)\n",
        "show(grid.cpu().detach().permute(1,2,0), sz=5)"
      ],
      "execution_count": null,
      "outputs": [
        {
          "output_type": "display_data",
          "data": {
            "image/png": "[encoded data removed]",
            "text/plain": [
              "<Figure size 360x360 with 1 Axes>"
            ]
          },
          "metadata": {
            "tags": [],
            "needs_background": "light"
          }
        }
      ]
    },
    {
      "cell_type": "code",
      "metadata": {
        "id": "dOtYXHVuY7Kn"
      },
      "source": [
        ""
      ],
      "execution_count": null,
      "outputs": []
    }
  ]
}